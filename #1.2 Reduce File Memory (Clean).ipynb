{
 "cells": [
  {
   "cell_type": "code",
   "execution_count": 19,
   "id": "069bde3b",
   "metadata": {},
   "outputs": [],
   "source": [
    "import sunpy \n",
    "import astropy.units as u\n",
    "\n",
    "from sunpy.net import Fido, attrs as a \n",
    "import astropy.time\n",
    "\n",
    "import sunpy.map\n",
    "\n",
    "from astropy.io import fits \n",
    "import matplotlib.pyplot as plt \n",
    "\n",
    "import os \n",
    "import pathlib \n",
    "\n",
    "from PIL import Image"
   ]
  },
  {
   "cell_type": "code",
   "execution_count": 44,
   "id": "0dba3bd3",
   "metadata": {},
   "outputs": [],
   "source": [
    "Sun_Start = \"2021-01-17T00:30\" #Start Time  \n",
    "Sun_End = \"2021-01-17T00:35\" #End time"
   ]
  },
  {
   "cell_type": "code",
   "execution_count": 45,
   "id": "fcecfb85",
   "metadata": {},
   "outputs": [],
   "source": [
    "Sun_Time = a.Time(Sun_Start , Sun_End) "
   ]
  },
  {
   "cell_type": "code",
   "execution_count": 46,
   "id": "bd4c21f6",
   "metadata": {},
   "outputs": [],
   "source": [
    " Data = Fido.search(Sun_Time & a.Instrument.aia & a.Wavelength(94*u.angstrom)) "
   ]
  },
  {
   "cell_type": "code",
   "execution_count": 47,
   "id": "dab0ae69",
   "metadata": {},
   "outputs": [
    {
     "data": {
      "text/html": [
       "Results from 1 Provider:</br></br>25 Results from the VSOClient:</br><div><i>VSOQueryResponseTable length=25</i>\n",
       "<table id=\"table2707000447424\" class=\"table-striped table-bordered table-condensed\">\n",
       "<thead><tr><th>Start Time</th><th>End Time</th><th>Source</th><th>Instrument</th><th>Wavelength [2]</th><th>Provider</th><th>Physobs</th><th>Wavetype</th><th>Extent Width</th><th>Extent Length</th><th>Extent Type</th><th>Size</th><th>Info</th></tr></thead>\n",
       "<thead><tr><th></th><th></th><th></th><th></th><th>Angstrom</th><th></th><th></th><th></th><th></th><th></th><th></th><th>Mibyte</th><th></th></tr></thead>\n",
       "<thead><tr><th>Time</th><th>Time</th><th>str3</th><th>str3</th><th>float64</th><th>str4</th><th>str9</th><th>str6</th><th>str4</th><th>str4</th><th>str8</th><th>float64</th><th>str57</th></tr></thead>\n",
       "<tr><td>2021-01-17 00:30:11.000</td><td>2021-01-17 00:30:12.000</td><td>SDO</td><td>AIA</td><td>94.0 .. 94.0</td><td>JSOC</td><td>intensity</td><td>NARROW</td><td>4096</td><td>4096</td><td>FULLDISK</td><td>64.64844</td><td>AIA level 1, 4096x4096 [2.902 exposure] [100.00 percentd]</td></tr>\n",
       "<tr><td>2021-01-17 00:30:23.000</td><td>2021-01-17 00:30:24.000</td><td>SDO</td><td>AIA</td><td>94.0 .. 94.0</td><td>JSOC</td><td>intensity</td><td>NARROW</td><td>4096</td><td>4096</td><td>FULLDISK</td><td>64.64844</td><td>AIA level 1, 4096x4096 [2.902 exposure] [100.00 percentd]</td></tr>\n",
       "<tr><td>2021-01-17 00:30:35.000</td><td>2021-01-17 00:30:36.000</td><td>SDO</td><td>AIA</td><td>94.0 .. 94.0</td><td>JSOC</td><td>intensity</td><td>NARROW</td><td>4096</td><td>4096</td><td>FULLDISK</td><td>64.64844</td><td>AIA level 1, 4096x4096 [2.902 exposure] [100.00 percentd]</td></tr>\n",
       "<tr><td>2021-01-17 00:30:47.000</td><td>2021-01-17 00:30:48.000</td><td>SDO</td><td>AIA</td><td>94.0 .. 94.0</td><td>JSOC</td><td>intensity</td><td>NARROW</td><td>4096</td><td>4096</td><td>FULLDISK</td><td>64.64844</td><td>AIA level 1, 4096x4096 [2.902 exposure] [100.00 percentd]</td></tr>\n",
       "<tr><td>2021-01-17 00:30:59.000</td><td>2021-01-17 00:31:00.000</td><td>SDO</td><td>AIA</td><td>94.0 .. 94.0</td><td>JSOC</td><td>intensity</td><td>NARROW</td><td>4096</td><td>4096</td><td>FULLDISK</td><td>64.64844</td><td>AIA level 1, 4096x4096 [2.902 exposure] [100.00 percentd]</td></tr>\n",
       "<tr><td>2021-01-17 00:31:11.000</td><td>2021-01-17 00:31:12.000</td><td>SDO</td><td>AIA</td><td>94.0 .. 94.0</td><td>JSOC</td><td>intensity</td><td>NARROW</td><td>4096</td><td>4096</td><td>FULLDISK</td><td>64.64844</td><td>AIA level 1, 4096x4096 [2.902 exposure] [100.00 percentd]</td></tr>\n",
       "<tr><td>2021-01-17 00:31:23.000</td><td>2021-01-17 00:31:24.000</td><td>SDO</td><td>AIA</td><td>94.0 .. 94.0</td><td>JSOC</td><td>intensity</td><td>NARROW</td><td>4096</td><td>4096</td><td>FULLDISK</td><td>64.64844</td><td>AIA level 1, 4096x4096 [2.902 exposure] [100.00 percentd]</td></tr>\n",
       "<tr><td>2021-01-17 00:31:35.000</td><td>2021-01-17 00:31:36.000</td><td>SDO</td><td>AIA</td><td>94.0 .. 94.0</td><td>JSOC</td><td>intensity</td><td>NARROW</td><td>4096</td><td>4096</td><td>FULLDISK</td><td>64.64844</td><td>AIA level 1, 4096x4096 [2.902 exposure] [100.00 percentd]</td></tr>\n",
       "<tr><td>2021-01-17 00:31:47.000</td><td>2021-01-17 00:31:48.000</td><td>SDO</td><td>AIA</td><td>94.0 .. 94.0</td><td>JSOC</td><td>intensity</td><td>NARROW</td><td>4096</td><td>4096</td><td>FULLDISK</td><td>64.64844</td><td>AIA level 1, 4096x4096 [2.902 exposure] [100.00 percentd]</td></tr>\n",
       "<tr><td>...</td><td>...</td><td>...</td><td>...</td><td>...</td><td>...</td><td>...</td><td>...</td><td>...</td><td>...</td><td>...</td><td>...</td><td>...</td></tr>\n",
       "<tr><td>2021-01-17 00:33:11.000</td><td>2021-01-17 00:33:12.000</td><td>SDO</td><td>AIA</td><td>94.0 .. 94.0</td><td>JSOC</td><td>intensity</td><td>NARROW</td><td>4096</td><td>4096</td><td>FULLDISK</td><td>64.64844</td><td>AIA level 1, 4096x4096 [2.902 exposure] [100.00 percentd]</td></tr>\n",
       "<tr><td>2021-01-17 00:33:23.000</td><td>2021-01-17 00:33:24.000</td><td>SDO</td><td>AIA</td><td>94.0 .. 94.0</td><td>JSOC</td><td>intensity</td><td>NARROW</td><td>4096</td><td>4096</td><td>FULLDISK</td><td>64.64844</td><td>AIA level 1, 4096x4096 [2.902 exposure] [100.00 percentd]</td></tr>\n",
       "<tr><td>2021-01-17 00:33:35.000</td><td>2021-01-17 00:33:36.000</td><td>SDO</td><td>AIA</td><td>94.0 .. 94.0</td><td>JSOC</td><td>intensity</td><td>NARROW</td><td>4096</td><td>4096</td><td>FULLDISK</td><td>64.64844</td><td>AIA level 1, 4096x4096 [2.902 exposure] [100.00 percentd]</td></tr>\n",
       "<tr><td>2021-01-17 00:33:47.000</td><td>2021-01-17 00:33:48.000</td><td>SDO</td><td>AIA</td><td>94.0 .. 94.0</td><td>JSOC</td><td>intensity</td><td>NARROW</td><td>4096</td><td>4096</td><td>FULLDISK</td><td>64.64844</td><td>AIA level 1, 4096x4096 [2.902 exposure] [100.00 percentd]</td></tr>\n",
       "<tr><td>2021-01-17 00:33:59.000</td><td>2021-01-17 00:34:00.000</td><td>SDO</td><td>AIA</td><td>94.0 .. 94.0</td><td>JSOC</td><td>intensity</td><td>NARROW</td><td>4096</td><td>4096</td><td>FULLDISK</td><td>64.64844</td><td>AIA level 1, 4096x4096 [2.902 exposure] [100.00 percentd]</td></tr>\n",
       "<tr><td>2021-01-17 00:34:11.000</td><td>2021-01-17 00:34:12.000</td><td>SDO</td><td>AIA</td><td>94.0 .. 94.0</td><td>JSOC</td><td>intensity</td><td>NARROW</td><td>4096</td><td>4096</td><td>FULLDISK</td><td>64.64844</td><td>AIA level 1, 4096x4096 [2.902 exposure] [100.00 percentd]</td></tr>\n",
       "<tr><td>2021-01-17 00:34:23.000</td><td>2021-01-17 00:34:24.000</td><td>SDO</td><td>AIA</td><td>94.0 .. 94.0</td><td>JSOC</td><td>intensity</td><td>NARROW</td><td>4096</td><td>4096</td><td>FULLDISK</td><td>64.64844</td><td>AIA level 1, 4096x4096 [2.902 exposure] [100.00 percentd]</td></tr>\n",
       "<tr><td>2021-01-17 00:34:35.000</td><td>2021-01-17 00:34:36.000</td><td>SDO</td><td>AIA</td><td>94.0 .. 94.0</td><td>JSOC</td><td>intensity</td><td>NARROW</td><td>4096</td><td>4096</td><td>FULLDISK</td><td>64.64844</td><td>AIA level 1, 4096x4096 [2.902 exposure] [100.00 percentd]</td></tr>\n",
       "<tr><td>2021-01-17 00:34:47.000</td><td>2021-01-17 00:34:48.000</td><td>SDO</td><td>AIA</td><td>94.0 .. 94.0</td><td>JSOC</td><td>intensity</td><td>NARROW</td><td>4096</td><td>4096</td><td>FULLDISK</td><td>64.64844</td><td>AIA level 1, 4096x4096 [2.902 exposure] [100.00 percentd]</td></tr>\n",
       "<tr><td>2021-01-17 00:34:59.000</td><td>2021-01-17 00:35:00.000</td><td>SDO</td><td>AIA</td><td>94.0 .. 94.0</td><td>JSOC</td><td>intensity</td><td>NARROW</td><td>4096</td><td>4096</td><td>FULLDISK</td><td>64.64844</td><td>AIA level 1, 4096x4096 [2.902 exposure] [100.00 percentd]</td></tr>\n",
       "</table></div></br>"
      ],
      "text/plain": [
       "<sunpy.net.fido_factory.UnifiedResponse object at 0x0000027645E84760>\n",
       "Results from 1 Provider:\n",
       "\n",
       "25 Results from the VSOClient:\n",
       "Source: http://vso.stanford.edu/cgi-bin/search\n",
       "Total estimated size: 1.695 Gbyte\n",
       "\n",
       "       Start Time       ...\n",
       "                        ...\n",
       "----------------------- ...\n",
       "2021-01-17 00:30:11.000 ...\n",
       "2021-01-17 00:30:23.000 ...\n",
       "2021-01-17 00:30:35.000 ...\n",
       "2021-01-17 00:30:47.000 ...\n",
       "2021-01-17 00:30:59.000 ...\n",
       "2021-01-17 00:31:11.000 ...\n",
       "2021-01-17 00:31:23.000 ...\n",
       "2021-01-17 00:31:35.000 ...\n",
       "2021-01-17 00:31:47.000 ...\n",
       "2021-01-17 00:31:59.000 ...\n",
       "                    ... ...\n",
       "2021-01-17 00:33:11.000 ...\n",
       "2021-01-17 00:33:23.000 ...\n",
       "2021-01-17 00:33:35.000 ...\n",
       "2021-01-17 00:33:47.000 ...\n",
       "2021-01-17 00:33:59.000 ...\n",
       "2021-01-17 00:34:11.000 ...\n",
       "2021-01-17 00:34:23.000 ...\n",
       "2021-01-17 00:34:35.000 ...\n",
       "2021-01-17 00:34:47.000 ...\n",
       "2021-01-17 00:34:59.000 ...\n",
       "Length = 25 rows\n"
      ]
     },
     "execution_count": 47,
     "metadata": {},
     "output_type": "execute_result"
    }
   ],
   "source": [
    "Data"
   ]
  },
  {
   "cell_type": "code",
   "execution_count": 41,
   "id": "01e7c51e",
   "metadata": {},
   "outputs": [],
   "source": [
    "new_dim = [512,512]*u.pixel"
   ]
  },
  {
   "cell_type": "code",
   "execution_count": 48,
   "id": "803a7fa7",
   "metadata": {},
   "outputs": [
    {
     "data": {
      "application/vnd.jupyter.widget-view+json": {
       "model_id": "889be5b5e6c64e218776458af025b27e",
       "version_major": 2,
       "version_minor": 0
      },
      "text/plain": [
       "Files Downloaded:   0%|          | 0/1 [00:00<?, ?file/s]"
      ]
     },
     "metadata": {},
     "output_type": "display_data"
    },
    {
     "ename": "KeyboardInterrupt",
     "evalue": "",
     "output_type": "error",
     "traceback": [
      "\u001b[1;31m---------------------------------------------------------------------------\u001b[0m",
      "\u001b[1;31mKeyboardInterrupt\u001b[0m                         Traceback (most recent call last)",
      "Input \u001b[1;32mIn [48]\u001b[0m, in \u001b[0;36m<cell line: 1>\u001b[1;34m()\u001b[0m\n\u001b[0;32m      1\u001b[0m \u001b[38;5;28;01mfor\u001b[39;00m file \u001b[38;5;129;01min\u001b[39;00m Data[\u001b[38;5;241m0\u001b[39m]: \u001b[38;5;66;03m#Data[0] helps with downloding the file one by one\u001b[39;00m\n\u001b[1;32m----> 2\u001b[0m     filename \u001b[38;5;241m=\u001b[39m \u001b[43mFido\u001b[49m\u001b[38;5;241;43m.\u001b[39;49m\u001b[43mfetch\u001b[49m\u001b[43m(\u001b[49m\u001b[43mfile\u001b[49m\u001b[43m)\u001b[49m\u001b[38;5;66;03m#Puts files on computer \u001b[39;00m\n\u001b[0;32m      3\u001b[0m     fff \u001b[38;5;241m=\u001b[39m ((filename[\u001b[38;5;241m0\u001b[39m]\u001b[38;5;241m.\u001b[39msplit(\u001b[38;5;124m'\u001b[39m\u001b[38;5;130;01m\\\\\u001b[39;00m\u001b[38;5;124m'\u001b[39m))[\u001b[38;5;241m5\u001b[39m])\u001b[38;5;241m.\u001b[39msplit(\u001b[38;5;124m'\u001b[39m\u001b[38;5;124m.\u001b[39m\u001b[38;5;124m'\u001b[39m) \u001b[38;5;66;03m#splits (\\\\) and (.) from path\u001b[39;00m\n\u001b[0;32m      5\u001b[0m     map0 \u001b[38;5;241m=\u001b[39m sunpy\u001b[38;5;241m.\u001b[39mmap\u001b[38;5;241m.\u001b[39mMap(filename) \u001b[38;5;66;03m#Reades files\u001b[39;00m\n",
      "File \u001b[1;32m~\\anaconda3\\lib\\site-packages\\sunpy\\net\\fido_factory.py:436\u001b[0m, in \u001b[0;36mUnifiedDownloaderFactory.fetch\u001b[1;34m(self, path, max_conn, progress, overwrite, downloader, *query_results, **kwargs)\u001b[0m\n\u001b[0;32m    433\u001b[0m         \u001b[38;5;28;01mif\u001b[39;00m result \u001b[38;5;129;01mnot\u001b[39;00m \u001b[38;5;129;01min\u001b[39;00m (\u001b[38;5;28mNotImplemented\u001b[39m, \u001b[38;5;28;01mNone\u001b[39;00m):\n\u001b[0;32m    434\u001b[0m             reslist\u001b[38;5;241m.\u001b[39mappend(result)\n\u001b[1;32m--> 436\u001b[0m results \u001b[38;5;241m=\u001b[39m \u001b[43mdownloader\u001b[49m\u001b[38;5;241;43m.\u001b[39;49m\u001b[43mdownload\u001b[49m\u001b[43m(\u001b[49m\u001b[43m)\u001b[49m\n\u001b[0;32m    437\u001b[0m \u001b[38;5;66;03m# Combine the results objects from all the clients into one Results\u001b[39;00m\n\u001b[0;32m    438\u001b[0m \u001b[38;5;66;03m# object.\u001b[39;00m\n\u001b[0;32m    439\u001b[0m \u001b[38;5;28;01mfor\u001b[39;00m result \u001b[38;5;129;01min\u001b[39;00m reslist:\n",
      "File \u001b[1;32m~\\anaconda3\\lib\\site-packages\\parfive\\downloader.py:344\u001b[0m, in \u001b[0;36mDownloader.download\u001b[1;34m(self, timeouts)\u001b[0m\n\u001b[0;32m    317\u001b[0m \u001b[38;5;28;01mdef\u001b[39;00m \u001b[38;5;21mdownload\u001b[39m(\u001b[38;5;28mself\u001b[39m, timeouts\u001b[38;5;241m=\u001b[39m\u001b[38;5;28;01mNone\u001b[39;00m):\n\u001b[0;32m    318\u001b[0m     \u001b[38;5;124;03m\"\"\"\u001b[39;00m\n\u001b[0;32m    319\u001b[0m \u001b[38;5;124;03m    Download all files in the queue.\u001b[39;00m\n\u001b[0;32m    320\u001b[0m \n\u001b[1;32m   (...)\u001b[0m\n\u001b[0;32m    342\u001b[0m \u001b[38;5;124;03m    ``PARFIVE_SOCK_READ_TIMEOUT``.\u001b[39;00m\n\u001b[0;32m    343\u001b[0m \u001b[38;5;124;03m    \"\"\"\u001b[39;00m\n\u001b[1;32m--> 344\u001b[0m     \u001b[38;5;28;01mreturn\u001b[39;00m \u001b[38;5;28;43mself\u001b[39;49m\u001b[38;5;241;43m.\u001b[39;49m\u001b[43m_run_in_loop\u001b[49m\u001b[43m(\u001b[49m\u001b[38;5;28;43mself\u001b[39;49m\u001b[38;5;241;43m.\u001b[39;49m\u001b[43mrun_download\u001b[49m\u001b[43m(\u001b[49m\u001b[43mtimeouts\u001b[49m\u001b[43m)\u001b[49m\u001b[43m)\u001b[49m\n",
      "File \u001b[1;32m~\\anaconda3\\lib\\site-packages\\parfive\\downloader.py:233\u001b[0m, in \u001b[0;36mDownloader._run_in_loop\u001b[1;34m(coro)\u001b[0m\n\u001b[0;32m    231\u001b[0m     aio_pool \u001b[38;5;241m=\u001b[39m ThreadPoolExecutor(\u001b[38;5;241m1\u001b[39m)\n\u001b[0;32m    232\u001b[0m     new_loop \u001b[38;5;241m=\u001b[39m asyncio\u001b[38;5;241m.\u001b[39mnew_event_loop()\n\u001b[1;32m--> 233\u001b[0m     \u001b[38;5;28;01mreturn\u001b[39;00m \u001b[43mrun_in_thread\u001b[49m\u001b[43m(\u001b[49m\u001b[43maio_pool\u001b[49m\u001b[43m,\u001b[49m\u001b[43m \u001b[49m\u001b[43mnew_loop\u001b[49m\u001b[43m,\u001b[49m\u001b[43m \u001b[49m\u001b[43mcoro\u001b[49m\u001b[43m)\u001b[49m\n\u001b[0;32m    235\u001b[0m \u001b[38;5;28;01mreturn\u001b[39;00m asyncio\u001b[38;5;241m.\u001b[39mrun(coro)\n",
      "File \u001b[1;32m~\\anaconda3\\lib\\site-packages\\parfive\\utils.py:60\u001b[0m, in \u001b[0;36mrun_in_thread\u001b[1;34m(aio_pool, loop, coro)\u001b[0m\n\u001b[0;32m     52\u001b[0m \u001b[38;5;28;01mdef\u001b[39;00m \u001b[38;5;21mrun_in_thread\u001b[39m(aio_pool, loop, coro):\n\u001b[0;32m     53\u001b[0m     \u001b[38;5;124;03m\"\"\"\u001b[39;00m\n\u001b[0;32m     54\u001b[0m \u001b[38;5;124;03m    This function returns the asyncio Future after running the loop in a\u001b[39;00m\n\u001b[0;32m     55\u001b[0m \u001b[38;5;124;03m    thread.\u001b[39;00m\n\u001b[1;32m   (...)\u001b[0m\n\u001b[0;32m     58\u001b[0m \u001b[38;5;124;03m    of ``loop.run_until_complete``.\u001b[39;00m\n\u001b[0;32m     59\u001b[0m \u001b[38;5;124;03m    \"\"\"\u001b[39;00m\n\u001b[1;32m---> 60\u001b[0m     \u001b[38;5;28;01mreturn\u001b[39;00m \u001b[43maio_pool\u001b[49m\u001b[38;5;241;43m.\u001b[39;49m\u001b[43msubmit\u001b[49m\u001b[43m(\u001b[49m\u001b[43mloop\u001b[49m\u001b[38;5;241;43m.\u001b[39;49m\u001b[43mrun_until_complete\u001b[49m\u001b[43m,\u001b[49m\u001b[43m \u001b[49m\u001b[43mcoro\u001b[49m\u001b[43m)\u001b[49m\u001b[38;5;241;43m.\u001b[39;49m\u001b[43mresult\u001b[49m\u001b[43m(\u001b[49m\u001b[43m)\u001b[49m\n",
      "File \u001b[1;32m~\\anaconda3\\lib\\concurrent\\futures\\_base.py:441\u001b[0m, in \u001b[0;36mFuture.result\u001b[1;34m(self, timeout)\u001b[0m\n\u001b[0;32m    438\u001b[0m \u001b[38;5;28;01melif\u001b[39;00m \u001b[38;5;28mself\u001b[39m\u001b[38;5;241m.\u001b[39m_state \u001b[38;5;241m==\u001b[39m FINISHED:\n\u001b[0;32m    439\u001b[0m     \u001b[38;5;28;01mreturn\u001b[39;00m \u001b[38;5;28mself\u001b[39m\u001b[38;5;241m.\u001b[39m__get_result()\n\u001b[1;32m--> 441\u001b[0m \u001b[38;5;28;43mself\u001b[39;49m\u001b[38;5;241;43m.\u001b[39;49m\u001b[43m_condition\u001b[49m\u001b[38;5;241;43m.\u001b[39;49m\u001b[43mwait\u001b[49m\u001b[43m(\u001b[49m\u001b[43mtimeout\u001b[49m\u001b[43m)\u001b[49m\n\u001b[0;32m    443\u001b[0m \u001b[38;5;28;01mif\u001b[39;00m \u001b[38;5;28mself\u001b[39m\u001b[38;5;241m.\u001b[39m_state \u001b[38;5;129;01min\u001b[39;00m [CANCELLED, CANCELLED_AND_NOTIFIED]:\n\u001b[0;32m    444\u001b[0m     \u001b[38;5;28;01mraise\u001b[39;00m CancelledError()\n",
      "File \u001b[1;32m~\\anaconda3\\lib\\threading.py:312\u001b[0m, in \u001b[0;36mCondition.wait\u001b[1;34m(self, timeout)\u001b[0m\n\u001b[0;32m    310\u001b[0m \u001b[38;5;28;01mtry\u001b[39;00m:    \u001b[38;5;66;03m# restore state no matter what (e.g., KeyboardInterrupt)\u001b[39;00m\n\u001b[0;32m    311\u001b[0m     \u001b[38;5;28;01mif\u001b[39;00m timeout \u001b[38;5;129;01mis\u001b[39;00m \u001b[38;5;28;01mNone\u001b[39;00m:\n\u001b[1;32m--> 312\u001b[0m         \u001b[43mwaiter\u001b[49m\u001b[38;5;241;43m.\u001b[39;49m\u001b[43macquire\u001b[49m\u001b[43m(\u001b[49m\u001b[43m)\u001b[49m\n\u001b[0;32m    313\u001b[0m         gotit \u001b[38;5;241m=\u001b[39m \u001b[38;5;28;01mTrue\u001b[39;00m\n\u001b[0;32m    314\u001b[0m     \u001b[38;5;28;01melse\u001b[39;00m:\n",
      "\u001b[1;31mKeyboardInterrupt\u001b[0m: "
     ]
    }
   ],
   "source": [
    "for file in Data[0]: #Data[0] helps with downloding the file one by one\n",
    "    filename = Fido.fetch(file)#Puts files on computer \n",
    "    fff = ((filename[0].split('\\\\'))[5]).split('.') #splits (\\\\) and (.) from path\n",
    "    \n",
    "    map0 = sunpy.map.Map(filename) #Reades files\n",
    "    map_resample = map0.resample(new_dim)#Change size  \n",
    "    map_resample.save('%s_256x256.fits'%(fff[0]))#Saves file with new dim\n",
    "\n",
    "    os.remove('../sunpy/data/%s'%(filename[0].split('\\\\'))[5]) #Removes Og File"
   ]
  },
  {
   "cell_type": "code",
   "execution_count": null,
   "id": "097bc20c",
   "metadata": {},
   "outputs": [],
   "source": []
  }
 ],
 "metadata": {
  "kernelspec": {
   "display_name": "Python 3 (ipykernel)",
   "language": "python",
   "name": "python3"
  },
  "language_info": {
   "codemirror_mode": {
    "name": "ipython",
    "version": 3
   },
   "file_extension": ".py",
   "mimetype": "text/x-python",
   "name": "python",
   "nbconvert_exporter": "python",
   "pygments_lexer": "ipython3",
   "version": "3.9.12"
  }
 },
 "nbformat": 4,
 "nbformat_minor": 5
}
