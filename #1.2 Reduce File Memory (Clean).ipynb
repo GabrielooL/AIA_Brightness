{
 "cells": [
  {
   "cell_type": "code",
   "execution_count": 19,
   "id": "069bde3b",
   "metadata": {},
   "outputs": [],
   "source": [
    "import sunpy \n",
    "import astropy.units as u\n",
    "\n",
    "from sunpy.net import Fido, attrs as a \n",
    "import astropy.time\n",
    "\n",
    "import sunpy.map\n",
    "\n",
    "from astropy.io import fits \n",
    "import matplotlib.pyplot as plt \n",
    "\n",
    "import os \n",
    "import pathlib \n",
    "\n",
    "from PIL import Image"
   ]
  },
  {
   "cell_type": "code",
   "execution_count": 26,
   "id": "0dba3bd3",
   "metadata": {},
   "outputs": [],
   "source": [
    "Sun_Start = \"2021-01-17T00:20\" #Start Time  \n",
    "Sun_End = \"2021-01-17T00:25\" #End time"
   ]
  },
  {
   "cell_type": "code",
   "execution_count": 27,
   "id": "fcecfb85",
   "metadata": {},
   "outputs": [],
   "source": [
    "Sun_Time = a.Time(Sun_Start , Sun_End) "
   ]
  },
  {
   "cell_type": "code",
   "execution_count": 28,
   "id": "bd4c21f6",
   "metadata": {},
   "outputs": [],
   "source": [
    " Data = Fido.search(Sun_Time & a.Instrument.aia & a.Wavelength(94*u.angstrom))"
   ]
  },
  {
   "cell_type": "code",
   "execution_count": 29,
   "id": "01e7c51e",
   "metadata": {},
   "outputs": [],
   "source": [
    "new_dim = [512,512]*u.pixel"
   ]
  },
  {
   "cell_type": "code",
   "execution_count": 30,
   "id": "803a7fa7",
   "metadata": {},
   "outputs": [
    {
     "data": {
      "application/vnd.jupyter.widget-view+json": {
       "model_id": "d941e210f92d4620a65d84cee83cddb4",
       "version_major": 2,
       "version_minor": 0
      },
      "text/plain": [
       "Files Downloaded:   0%|          | 0/1 [00:00<?, ?file/s]"
      ]
     },
     "metadata": {},
     "output_type": "display_data"
    },
    {
     "data": {
      "application/vnd.jupyter.widget-view+json": {
       "model_id": "",
       "version_major": 2,
       "version_minor": 0
      },
      "text/plain": [
       "aia_lev1_94a_2021_01_17t00_20_11_12z_image_lev1.fits:   0%|          | 0.00/10.5M [00:00<?, ?B/s]"
      ]
     },
     "metadata": {},
     "output_type": "display_data"
    },
    {
     "name": "stderr",
     "output_type": "stream",
     "text": [
      "WARNING: VerifyWarning: Invalid 'BLANK' keyword in header.  The 'BLANK' keyword is only applicable to integer data, and will be ignored in this HDU. [astropy.io.fits.hdu.image]\n"
     ]
    },
    {
     "data": {
      "application/vnd.jupyter.widget-view+json": {
       "model_id": "c49d7437e2ad49069cfa08762bf9df0f",
       "version_major": 2,
       "version_minor": 0
      },
      "text/plain": [
       "Files Downloaded:   0%|          | 0/1 [00:00<?, ?file/s]"
      ]
     },
     "metadata": {},
     "output_type": "display_data"
    },
    {
     "data": {
      "application/vnd.jupyter.widget-view+json": {
       "model_id": "",
       "version_major": 2,
       "version_minor": 0
      },
      "text/plain": [
       "aia_lev1_94a_2021_01_17t00_20_23_12z_image_lev1.fits:   0%|          | 0.00/10.5M [00:00<?, ?B/s]"
      ]
     },
     "metadata": {},
     "output_type": "display_data"
    },
    {
     "data": {
      "application/vnd.jupyter.widget-view+json": {
       "model_id": "97ceadb691d6497ea4c1d73ed54fb0e6",
       "version_major": 2,
       "version_minor": 0
      },
      "text/plain": [
       "Files Downloaded:   0%|          | 0/1 [00:00<?, ?file/s]"
      ]
     },
     "metadata": {},
     "output_type": "display_data"
    },
    {
     "ename": "IndexError",
     "evalue": "list index out of range",
     "output_type": "error",
     "traceback": [
      "\u001b[1;31m---------------------------------------------------------------------------\u001b[0m",
      "\u001b[1;31mIndexError\u001b[0m                                Traceback (most recent call last)",
      "Input \u001b[1;32mIn [30]\u001b[0m, in \u001b[0;36m<cell line: 1>\u001b[1;34m()\u001b[0m\n\u001b[0;32m      1\u001b[0m \u001b[38;5;28;01mfor\u001b[39;00m file \u001b[38;5;129;01min\u001b[39;00m Data[\u001b[38;5;241m0\u001b[39m]: \u001b[38;5;66;03m#Data[0] helps with downloding the file one by one\u001b[39;00m\n\u001b[0;32m      2\u001b[0m     filename \u001b[38;5;241m=\u001b[39m Fido\u001b[38;5;241m.\u001b[39mfetch(file)\u001b[38;5;66;03m#Puts files on computer \u001b[39;00m\n\u001b[1;32m----> 3\u001b[0m     fff \u001b[38;5;241m=\u001b[39m ((\u001b[43mfilename\u001b[49m\u001b[43m[\u001b[49m\u001b[38;5;241;43m0\u001b[39;49m\u001b[43m]\u001b[49m\u001b[38;5;241m.\u001b[39msplit(\u001b[38;5;124m'\u001b[39m\u001b[38;5;130;01m\\\\\u001b[39;00m\u001b[38;5;124m'\u001b[39m))[\u001b[38;5;241m5\u001b[39m])\u001b[38;5;241m.\u001b[39msplit(\u001b[38;5;124m'\u001b[39m\u001b[38;5;124m.\u001b[39m\u001b[38;5;124m'\u001b[39m)\n\u001b[0;32m      5\u001b[0m     map0 \u001b[38;5;241m=\u001b[39m sunpy\u001b[38;5;241m.\u001b[39mmap\u001b[38;5;241m.\u001b[39mMap(filename) \u001b[38;5;66;03m#Reades files\u001b[39;00m\n\u001b[0;32m      6\u001b[0m     map_resample \u001b[38;5;241m=\u001b[39m map0\u001b[38;5;241m.\u001b[39mresample(new_dim)\u001b[38;5;66;03m#Change size  \u001b[39;00m\n",
      "File \u001b[1;32m~\\anaconda3\\lib\\collections\\__init__.py:1175\u001b[0m, in \u001b[0;36mUserList.__getitem__\u001b[1;34m(self, i)\u001b[0m\n\u001b[0;32m   1173\u001b[0m     \u001b[38;5;28;01mreturn\u001b[39;00m \u001b[38;5;28mself\u001b[39m\u001b[38;5;241m.\u001b[39m\u001b[38;5;18m__class__\u001b[39m(\u001b[38;5;28mself\u001b[39m\u001b[38;5;241m.\u001b[39mdata[i])\n\u001b[0;32m   1174\u001b[0m \u001b[38;5;28;01melse\u001b[39;00m:\n\u001b[1;32m-> 1175\u001b[0m     \u001b[38;5;28;01mreturn\u001b[39;00m \u001b[38;5;28;43mself\u001b[39;49m\u001b[38;5;241;43m.\u001b[39;49m\u001b[43mdata\u001b[49m\u001b[43m[\u001b[49m\u001b[43mi\u001b[49m\u001b[43m]\u001b[49m\n",
      "\u001b[1;31mIndexError\u001b[0m: list index out of range"
     ]
    }
   ],
   "source": [
    "for file in Data[0]: #Data[0] helps with downloding the file one by one\n",
    "    filename = Fido.fetch(file)#Puts files on computer \n",
    "    fff = ((filename[0].split('\\\\'))[5]).split('.')\n",
    "    \n",
    "    map0 = sunpy.map.Map(filename) #Reades files\n",
    "    map_resample = map0.resample(new_dim)#Change size  \n",
    "    map_resample.save('%s_256x256.fits'%(fff[0]))\n",
    "\n",
    "    os.remove('../sunpy/data/%s'%(filename[0].split('\\\\'))[5])"
   ]
  },
  {
   "cell_type": "code",
   "execution_count": null,
   "id": "a752627d",
   "metadata": {},
   "outputs": [],
   "source": []
  }
 ],
 "metadata": {
  "kernelspec": {
   "display_name": "Python 3 (ipykernel)",
   "language": "python",
   "name": "python3"
  },
  "language_info": {
   "codemirror_mode": {
    "name": "ipython",
    "version": 3
   },
   "file_extension": ".py",
   "mimetype": "text/x-python",
   "name": "python",
   "nbconvert_exporter": "python",
   "pygments_lexer": "ipython3",
   "version": "3.9.12"
  }
 },
 "nbformat": 4,
 "nbformat_minor": 5
}
