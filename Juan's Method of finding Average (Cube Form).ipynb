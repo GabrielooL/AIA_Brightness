{
 "cells": [
  {
   "cell_type": "code",
   "execution_count": 1,
   "id": "b3abfa48",
   "metadata": {},
   "outputs": [],
   "source": [
    "from astropy.io import fits as astro_fits  \n",
    "from astropy.io.fits import getdata\n",
    "\n",
    "import copy\n",
    "import glob\n",
    "\n",
    "import matplotlib\n",
    "import matplotlib.pyplot as plt\n",
    "from mpl_toolkits.axes_grid1 import make_axes_locatable\n",
    "import numpy as np\n",
    "from IPython.display import HTML\n",
    "\n",
    "import astropy.table\n",
    "from astropy.coordinates import SkyCoord\n",
    "import astropy.units as u\n",
    "from astropy.visualization import AsymmetricPercentileInterval, ImageNormalize, LogStretch\n",
    "import pickle"
   ]
  },
  {
   "cell_type": "code",
   "execution_count": 3,
   "id": "52b3989c",
   "metadata": {},
   "outputs": [],
   "source": [
    "#This is to get our files from computer to Python\n",
    "List = glob.glob(r'C:\\Users\\14242\\2022 Summer Internship\\Sun Pics\\*')"
   ]
  },
  {
   "cell_type": "code",
   "execution_count": 4,
   "id": "48737930",
   "metadata": {},
   "outputs": [
    {
     "data": {
      "text/plain": [
       "['C:\\\\Users\\\\14242\\\\2022 Summer Internship\\\\Sun Pics\\\\01 Pic of Sun.fits',\n",
       " 'C:\\\\Users\\\\14242\\\\2022 Summer Internship\\\\Sun Pics\\\\02 Pic Sun.fits',\n",
       " 'C:\\\\Users\\\\14242\\\\2022 Summer Internship\\\\Sun Pics\\\\03 Pic Sun.fits',\n",
       " 'C:\\\\Users\\\\14242\\\\2022 Summer Internship\\\\Sun Pics\\\\04 Pic Sun.fits',\n",
       " 'C:\\\\Users\\\\14242\\\\2022 Summer Internship\\\\Sun Pics\\\\05 Pic Sun.fits',\n",
       " 'C:\\\\Users\\\\14242\\\\2022 Summer Internship\\\\Sun Pics\\\\06 Pic Sun.fits',\n",
       " 'C:\\\\Users\\\\14242\\\\2022 Summer Internship\\\\Sun Pics\\\\07 Pic Sun.fits',\n",
       " 'C:\\\\Users\\\\14242\\\\2022 Summer Internship\\\\Sun Pics\\\\08 Pic Sun.fits',\n",
       " 'C:\\\\Users\\\\14242\\\\2022 Summer Internship\\\\Sun Pics\\\\09 Pic Sun.fits',\n",
       " 'C:\\\\Users\\\\14242\\\\2022 Summer Internship\\\\Sun Pics\\\\10 Pic Sun.fits',\n",
       " 'C:\\\\Users\\\\14242\\\\2022 Summer Internship\\\\Sun Pics\\\\Array Dump.txt']"
      ]
     },
     "execution_count": 4,
     "metadata": {},
     "output_type": "execute_result"
    }
   ],
   "source": [
    "List\n"
   ]
  },
  {
   "cell_type": "code",
   "execution_count": 5,
   "id": "a4989d97",
   "metadata": {
    "scrolled": true
   },
   "outputs": [
    {
     "ename": "OSError",
     "evalue": "Empty or corrupt FITS file",
     "output_type": "error",
     "traceback": [
      "\u001b[1;31m---------------------------------------------------------------------------\u001b[0m",
      "\u001b[1;31mOSError\u001b[0m                                   Traceback (most recent call last)",
      "Input \u001b[1;32mIn [5]\u001b[0m, in \u001b[0;36m<cell line: 18>\u001b[1;34m()\u001b[0m\n\u001b[0;32m     17\u001b[0m data_median \u001b[38;5;241m=\u001b[39m [] \n\u001b[0;32m     18\u001b[0m \u001b[38;5;28;01mfor\u001b[39;00m star \u001b[38;5;129;01min\u001b[39;00m List: \n\u001b[1;32m---> 19\u001b[0m     stardata \u001b[38;5;241m=\u001b[39m \u001b[43mgetdata\u001b[49m\u001b[43m(\u001b[49m\u001b[43mstar\u001b[49m\u001b[43m)\u001b[49m \n\u001b[0;32m     20\u001b[0m     data_average\u001b[38;5;241m.\u001b[39mappend(stardata \u001b[38;5;241m-\u001b[39m np\u001b[38;5;241m.\u001b[39maverage(stardata)) \n\u001b[0;32m     21\u001b[0m     data_median\u001b[38;5;241m.\u001b[39mappend(stardata \u001b[38;5;241m-\u001b[39m np\u001b[38;5;241m.\u001b[39mmedian(stardata))\n",
      "File \u001b[1;32m~\\anaconda3\\lib\\site-packages\\astropy\\io\\fits\\convenience.py:205\u001b[0m, in \u001b[0;36mgetdata\u001b[1;34m(filename, header, lower, upper, view, *args, **kwargs)\u001b[0m\n\u001b[0;32m    201\u001b[0m extver \u001b[38;5;241m=\u001b[39m kwargs\u001b[38;5;241m.\u001b[39mget(\u001b[38;5;124m'\u001b[39m\u001b[38;5;124mextver\u001b[39m\u001b[38;5;124m'\u001b[39m)\n\u001b[0;32m    202\u001b[0m ext_given \u001b[38;5;241m=\u001b[39m \u001b[38;5;129;01mnot\u001b[39;00m (\u001b[38;5;28mlen\u001b[39m(args) \u001b[38;5;241m==\u001b[39m \u001b[38;5;241m0\u001b[39m \u001b[38;5;129;01mand\u001b[39;00m ext \u001b[38;5;129;01mis\u001b[39;00m \u001b[38;5;28;01mNone\u001b[39;00m \u001b[38;5;129;01mand\u001b[39;00m\n\u001b[0;32m    203\u001b[0m                  extname \u001b[38;5;129;01mis\u001b[39;00m \u001b[38;5;28;01mNone\u001b[39;00m \u001b[38;5;129;01mand\u001b[39;00m extver \u001b[38;5;129;01mis\u001b[39;00m \u001b[38;5;28;01mNone\u001b[39;00m)\n\u001b[1;32m--> 205\u001b[0m hdulist, extidx \u001b[38;5;241m=\u001b[39m _getext(filename, mode, \u001b[38;5;241m*\u001b[39margs, \u001b[38;5;241m*\u001b[39m\u001b[38;5;241m*\u001b[39mkwargs)\n\u001b[0;32m    206\u001b[0m \u001b[38;5;28;01mtry\u001b[39;00m:\n\u001b[0;32m    207\u001b[0m     hdu \u001b[38;5;241m=\u001b[39m hdulist[extidx]\n",
      "File \u001b[1;32m~\\anaconda3\\lib\\site-packages\\astropy\\io\\fits\\convenience.py:1091\u001b[0m, in \u001b[0;36m_getext\u001b[1;34m(filename, mode, ext, extname, extver, *args, **kwargs)\u001b[0m\n\u001b[0;32m   1088\u001b[0m \u001b[38;5;28;01melif\u001b[39;00m extver \u001b[38;5;129;01mand\u001b[39;00m extname \u001b[38;5;129;01mis\u001b[39;00m \u001b[38;5;28;01mNone\u001b[39;00m:\n\u001b[0;32m   1089\u001b[0m     \u001b[38;5;28;01mraise\u001b[39;00m \u001b[38;5;167;01mTypeError\u001b[39;00m(\u001b[38;5;124m'\u001b[39m\u001b[38;5;124mextver alone cannot specify an extension.\u001b[39m\u001b[38;5;124m'\u001b[39m)\n\u001b[1;32m-> 1091\u001b[0m hdulist \u001b[38;5;241m=\u001b[39m fitsopen(filename, mode\u001b[38;5;241m=\u001b[39mmode, \u001b[38;5;241m*\u001b[39m\u001b[38;5;241m*\u001b[39mkwargs)\n\u001b[0;32m   1093\u001b[0m \u001b[38;5;28;01mreturn\u001b[39;00m hdulist, ext\n",
      "File \u001b[1;32m~\\anaconda3\\lib\\site-packages\\astropy\\io\\fits\\hdu\\hdulist.py:176\u001b[0m, in \u001b[0;36mfitsopen\u001b[1;34m(name, mode, memmap, save_backup, cache, lazy_load_hdus, ignore_missing_simple, **kwargs)\u001b[0m\n\u001b[0;32m    173\u001b[0m \u001b[38;5;28;01mif\u001b[39;00m \u001b[38;5;129;01mnot\u001b[39;00m name:\n\u001b[0;32m    174\u001b[0m     \u001b[38;5;28;01mraise\u001b[39;00m \u001b[38;5;167;01mValueError\u001b[39;00m(\u001b[38;5;124mf\u001b[39m\u001b[38;5;124m'\u001b[39m\u001b[38;5;124mEmpty filename: \u001b[39m\u001b[38;5;132;01m{\u001b[39;00mname\u001b[38;5;132;01m!r}\u001b[39;00m\u001b[38;5;124m'\u001b[39m)\n\u001b[1;32m--> 176\u001b[0m \u001b[38;5;28;01mreturn\u001b[39;00m HDUList\u001b[38;5;241m.\u001b[39mfromfile(name, mode, memmap, save_backup, cache,\n\u001b[0;32m    177\u001b[0m                         lazy_load_hdus, ignore_missing_simple, \u001b[38;5;241m*\u001b[39m\u001b[38;5;241m*\u001b[39mkwargs)\n",
      "File \u001b[1;32m~\\anaconda3\\lib\\site-packages\\astropy\\io\\fits\\hdu\\hdulist.py:411\u001b[0m, in \u001b[0;36mHDUList.fromfile\u001b[1;34m(cls, fileobj, mode, memmap, save_backup, cache, lazy_load_hdus, ignore_missing_simple, **kwargs)\u001b[0m\n\u001b[0;32m    399\u001b[0m \u001b[38;5;129m@classmethod\u001b[39m\n\u001b[0;32m    400\u001b[0m \u001b[38;5;28;01mdef\u001b[39;00m \u001b[38;5;21mfromfile\u001b[39m(\u001b[38;5;28mcls\u001b[39m, fileobj, mode\u001b[38;5;241m=\u001b[39m\u001b[38;5;28;01mNone\u001b[39;00m, memmap\u001b[38;5;241m=\u001b[39m\u001b[38;5;28;01mNone\u001b[39;00m,\n\u001b[0;32m    401\u001b[0m              save_backup\u001b[38;5;241m=\u001b[39m\u001b[38;5;28;01mFalse\u001b[39;00m, cache\u001b[38;5;241m=\u001b[39m\u001b[38;5;28;01mTrue\u001b[39;00m, lazy_load_hdus\u001b[38;5;241m=\u001b[39m\u001b[38;5;28;01mTrue\u001b[39;00m,\n\u001b[0;32m    402\u001b[0m              ignore_missing_simple\u001b[38;5;241m=\u001b[39m\u001b[38;5;28;01mFalse\u001b[39;00m, \u001b[38;5;241m*\u001b[39m\u001b[38;5;241m*\u001b[39mkwargs):\n\u001b[0;32m    403\u001b[0m     \u001b[38;5;124;03m\"\"\"\u001b[39;00m\n\u001b[0;32m    404\u001b[0m \u001b[38;5;124;03m    Creates an `HDUList` instance from a file-like object.\u001b[39;00m\n\u001b[0;32m    405\u001b[0m \n\u001b[1;32m   (...)\u001b[0m\n\u001b[0;32m    408\u001b[0m \u001b[38;5;124;03m    documentation for details of the parameters accepted by this method).\u001b[39;00m\n\u001b[0;32m    409\u001b[0m \u001b[38;5;124;03m    \"\"\"\u001b[39;00m\n\u001b[1;32m--> 411\u001b[0m     \u001b[38;5;28;01mreturn\u001b[39;00m \u001b[38;5;28mcls\u001b[39m\u001b[38;5;241m.\u001b[39m_readfrom(fileobj\u001b[38;5;241m=\u001b[39mfileobj, mode\u001b[38;5;241m=\u001b[39mmode, memmap\u001b[38;5;241m=\u001b[39mmemmap,\n\u001b[0;32m    412\u001b[0m                          save_backup\u001b[38;5;241m=\u001b[39msave_backup, cache\u001b[38;5;241m=\u001b[39mcache,\n\u001b[0;32m    413\u001b[0m                          ignore_missing_simple\u001b[38;5;241m=\u001b[39mignore_missing_simple,\n\u001b[0;32m    414\u001b[0m                          lazy_load_hdus\u001b[38;5;241m=\u001b[39mlazy_load_hdus, \u001b[38;5;241m*\u001b[39m\u001b[38;5;241m*\u001b[39mkwargs)\n",
      "File \u001b[1;32m~\\anaconda3\\lib\\site-packages\\astropy\\io\\fits\\hdu\\hdulist.py:1134\u001b[0m, in \u001b[0;36mHDUList._readfrom\u001b[1;34m(cls, fileobj, data, mode, memmap, cache, lazy_load_hdus, ignore_missing_simple, **kwargs)\u001b[0m\n\u001b[0;32m   1131\u001b[0m     \u001b[38;5;28;01mif\u001b[39;00m hdulist\u001b[38;5;241m.\u001b[39m_file\u001b[38;5;241m.\u001b[39mclose_on_error:\n\u001b[0;32m   1132\u001b[0m         hdulist\u001b[38;5;241m.\u001b[39m_file\u001b[38;5;241m.\u001b[39mclose()\n\u001b[1;32m-> 1134\u001b[0m     \u001b[38;5;28;01mraise\u001b[39;00m \u001b[38;5;167;01mOSError\u001b[39;00m(\u001b[38;5;124m'\u001b[39m\u001b[38;5;124mEmpty or corrupt FITS file\u001b[39m\u001b[38;5;124m'\u001b[39m)\n\u001b[0;32m   1136\u001b[0m \u001b[38;5;28;01mif\u001b[39;00m \u001b[38;5;129;01mnot\u001b[39;00m lazy_load_hdus \u001b[38;5;129;01mor\u001b[39;00m kwargs\u001b[38;5;241m.\u001b[39mget(\u001b[38;5;124m'\u001b[39m\u001b[38;5;124mchecksum\u001b[39m\u001b[38;5;124m'\u001b[39m) \u001b[38;5;129;01mis\u001b[39;00m \u001b[38;5;28;01mTrue\u001b[39;00m:\n\u001b[0;32m   1137\u001b[0m     \u001b[38;5;66;03m# Go ahead and load all HDUs\u001b[39;00m\n\u001b[0;32m   1138\u001b[0m     \u001b[38;5;28;01mwhile\u001b[39;00m hdulist\u001b[38;5;241m.\u001b[39m_read_next_hdu():\n",
      "\u001b[1;31mOSError\u001b[0m: Empty or corrupt FITS file"
     ]
    }
   ],
   "source": [
    "#Do this to create a loop with the files to read thiere data\n",
    "#data_average = []\n",
    "#for star in List: \n",
    "    #print(star)  \n",
    "    #stardata = getdata(star)\n",
    "    #data_average.append(stardata - np.average(stardata))\n",
    "    \n",
    "#data_median = []\n",
    "#for star in List: \n",
    "    #print(star)  \n",
    "    #stardata = getdata(star)\n",
    "    #data_median.append(stardata - np.median(stardata)) \n",
    "    \n",
    "#This code is a combination of daa_average and data_median \n",
    "\n",
    "data_average = [] \n",
    "data_median = [] \n",
    "for star in List: \n",
    "    stardata = getdata(star) \n",
    "    data_average.append(stardata - np.average(stardata)) \n",
    "    data_median.append(stardata - np.median(stardata)) "
   ]
  },
  {
   "cell_type": "code",
   "execution_count": null,
   "id": "98109a0a",
   "metadata": {},
   "outputs": [],
   "source": [
    "#Variable (data) is to help with the creation of the array by beings able to read the data of all files in one code\n",
    "data_average = np.array(data_average)"
   ]
  },
  {
   "cell_type": "code",
   "execution_count": null,
   "id": "13d8722c",
   "metadata": {},
   "outputs": [],
   "source": [
    "#The dimensions of the files (think of a 3D Marix)\n",
    "data_average.shape"
   ]
  },
  {
   "cell_type": "code",
   "execution_count": null,
   "id": "007af20b",
   "metadata": {},
   "outputs": [],
   "source": [
    "#Gives us the advreges of all the 10 pics\n",
    "np.average(data_average)"
   ]
  },
  {
   "cell_type": "code",
   "execution_count": null,
   "id": "46a8081b",
   "metadata": {},
   "outputs": [],
   "source": [
    "#Making the Array with (data)\n",
    "Arr=np.array(data_average)"
   ]
  },
  {
   "cell_type": "code",
   "execution_count": null,
   "id": "daaf4f7d",
   "metadata": {},
   "outputs": [],
   "source": [
    "Arr"
   ]
  },
  {
   "cell_type": "code",
   "execution_count": null,
   "id": "6e12f6cd",
   "metadata": {},
   "outputs": [],
   "source": [
    "#This is sub the original data with the mean\n",
    "Arr - Arr.mean()"
   ]
  },
  {
   "cell_type": "code",
   "execution_count": null,
   "id": "b690b930",
   "metadata": {},
   "outputs": [],
   "source": [
    "with open('datafile.txt', 'wb') as fh:\n",
    "   pickle.dump(Arr[0], fh)\n",
    "    "
   ]
  },
  {
   "cell_type": "code",
   "execution_count": null,
   "id": "d53548a8",
   "metadata": {},
   "outputs": [],
   "source": [
    "Arr[0]\n"
   ]
  },
  {
   "cell_type": "code",
   "execution_count": null,
   "id": "0b073392",
   "metadata": {},
   "outputs": [],
   "source": []
  }
 ],
 "metadata": {
  "kernelspec": {
   "display_name": "Python 3 (ipykernel)",
   "language": "python",
   "name": "python3"
  },
  "language_info": {
   "codemirror_mode": {
    "name": "ipython",
    "version": 3
   },
   "file_extension": ".py",
   "mimetype": "text/x-python",
   "name": "python",
   "nbconvert_exporter": "python",
   "pygments_lexer": "ipython3",
   "version": "3.9.12"
  }
 },
 "nbformat": 4,
 "nbformat_minor": 5
}
