{
 "cells": [
  {
   "cell_type": "code",
   "execution_count": 3,
   "id": "b95d050f",
   "metadata": {},
   "outputs": [],
   "source": [
    "import sunpy \n",
    "import astropy.units as u\n",
    "\n",
    "from sunpy.net import Fido, attrs as a \n",
    "import astropy.time\n",
    "\n",
    "import sunpy.map\n",
    "\n",
    "from astropy.io import fits \n",
    "import matplotlib.pyplot as plt \n",
    "\n",
    "import os \n",
    "import pathlib \n",
    "\n",
    "from PIL import Image"
   ]
  },
  {
   "cell_type": "code",
   "execution_count": 4,
   "id": "248d4c08",
   "metadata": {},
   "outputs": [],
   "source": [
    "Sun_Start = \"2021-01-17T00:00\" #Start Time  \n",
    "Sun_End = \"2021-01-17T00:05\" #End time"
   ]
  },
  {
   "cell_type": "code",
   "execution_count": 5,
   "id": "20987208",
   "metadata": {},
   "outputs": [],
   "source": [
    "Sun_Time = a.Time(Sun_Start , Sun_End) "
   ]
  },
  {
   "cell_type": "code",
   "execution_count": 6,
   "id": "5832b055",
   "metadata": {},
   "outputs": [],
   "source": [
    " Data = Fido.search(Sun_Time & a.Instrument.aia & a.Wavelength(94*u.angstrom))"
   ]
  },
  {
   "cell_type": "code",
   "execution_count": null,
   "id": "48d1731d",
   "metadata": {},
   "outputs": [],
   "source": [
    "#Juciy Part of the Data (Minimize files) \n"
   ]
  },
  {
   "cell_type": "code",
   "execution_count": 8,
   "id": "090b273b",
   "metadata": {},
   "outputs": [],
   "source": [
    "new_dim = [512,512]*u.pixel"
   ]
  },
  {
   "cell_type": "code",
   "execution_count": 17,
   "id": "68fd73dc",
   "metadata": {},
   "outputs": [
    {
     "data": {
      "application/vnd.jupyter.widget-view+json": {
       "model_id": "42f5df4eb4084e1394682e863c4d84be",
       "version_major": 2,
       "version_minor": 0
      },
      "text/plain": [
       "Files Downloaded:   0%|          | 0/1 [00:00<?, ?file/s]"
      ]
     },
     "metadata": {},
     "output_type": "display_data"
    },
    {
     "ename": "IndexError",
     "evalue": "list index out of range",
     "output_type": "error",
     "traceback": [
      "\u001b[1;31m---------------------------------------------------------------------------\u001b[0m",
      "\u001b[1;31mIndexError\u001b[0m                                Traceback (most recent call last)",
      "Input \u001b[1;32mIn [17]\u001b[0m, in \u001b[0;36m<cell line: 3>\u001b[1;34m()\u001b[0m\n\u001b[0;32m      4\u001b[0m filename \u001b[38;5;241m=\u001b[39m Fido\u001b[38;5;241m.\u001b[39mfetch(file)\u001b[38;5;66;03m#Puts files on computer  \u001b[39;00m\n\u001b[0;32m      5\u001b[0m \u001b[38;5;28;01mfor\u001b[39;00m i \u001b[38;5;129;01min\u001b[39;00m \u001b[38;5;28mrange\u001b[39m(\u001b[38;5;28mlen\u001b[39m(file)): \n\u001b[1;32m----> 7\u001b[0m     fff \u001b[38;5;241m=\u001b[39m ((\u001b[43mfilename\u001b[49m\u001b[43m[\u001b[49m\u001b[38;5;241;43m0\u001b[39;49m\u001b[38;5;241;43m+\u001b[39;49m\u001b[43mi\u001b[49m\u001b[43m]\u001b[49m\u001b[38;5;241m.\u001b[39msplit(\u001b[38;5;124m'\u001b[39m\u001b[38;5;130;01m\\\\\u001b[39;00m\u001b[38;5;124m'\u001b[39m))[\u001b[38;5;241m5\u001b[39m])\u001b[38;5;241m.\u001b[39msplit(\u001b[38;5;124m'\u001b[39m\u001b[38;5;124m.\u001b[39m\u001b[38;5;124m'\u001b[39m)\n\u001b[0;32m      8\u001b[0m     map0 \u001b[38;5;241m=\u001b[39m sunpy\u001b[38;5;241m.\u001b[39mmap\u001b[38;5;241m.\u001b[39mMap(filename) \u001b[38;5;66;03m#Reades files\u001b[39;00m\n\u001b[0;32m      9\u001b[0m     map_resample \u001b[38;5;241m=\u001b[39m map0\u001b[38;5;241m.\u001b[39mresample(new_dim)\u001b[38;5;66;03m#Change size  \u001b[39;00m\n",
      "File \u001b[1;32m~\\anaconda3\\lib\\collections\\__init__.py:1175\u001b[0m, in \u001b[0;36mUserList.__getitem__\u001b[1;34m(self, i)\u001b[0m\n\u001b[0;32m   1173\u001b[0m     \u001b[38;5;28;01mreturn\u001b[39;00m \u001b[38;5;28mself\u001b[39m\u001b[38;5;241m.\u001b[39m\u001b[38;5;18m__class__\u001b[39m(\u001b[38;5;28mself\u001b[39m\u001b[38;5;241m.\u001b[39mdata[i])\n\u001b[0;32m   1174\u001b[0m \u001b[38;5;28;01melse\u001b[39;00m:\n\u001b[1;32m-> 1175\u001b[0m     \u001b[38;5;28;01mreturn\u001b[39;00m \u001b[38;5;28;43mself\u001b[39;49m\u001b[38;5;241;43m.\u001b[39;49m\u001b[43mdata\u001b[49m\u001b[43m[\u001b[49m\u001b[43mi\u001b[49m\u001b[43m]\u001b[49m\n",
      "\u001b[1;31mIndexError\u001b[0m: list index out of range"
     ]
    }
   ],
   "source": [
    "#Test one\n",
    "\n",
    "for file in Data[0]: #Data[0] helps with downloding the file one by one\n",
    "    filename = Fido.fetch(file)#Puts files on computer  \n",
    "    for i in range(len(file)): \n",
    "        \n",
    "        fff = ((filename[0+i].split('\\\\'))[5]).split('.')\n",
    "        map0 = sunpy.map.Map(filename) #Reades files\n",
    "        map_resample = map0.resample(new_dim)#Change size  \n",
    "        map_resample.save('%s_256x256.fits'%(fff[0+i]))\n",
    "        os.remove('../sunpy/data/%s'%(filename[0+i].split('\\\\'))[5])\n",
    "    \n",
    "    "
   ]
  },
  {
   "cell_type": "code",
   "execution_count": 14,
   "id": "cef7d925",
   "metadata": {},
   "outputs": [],
   "source": [
    "os.remove('../sunpy/data/aia20220801_000000_0094.fits')"
   ]
  },
  {
   "cell_type": "code",
   "execution_count": 12,
   "id": "a65072a3",
   "metadata": {
    "scrolled": false
   },
   "outputs": [],
   "source": [
    "#OG ONE THAT WORKS!!!!!!!!!!!!!!!!!!!!!!!!!!!\n",
    "\n",
    "#for file in Data[0]: #Data[0] helps with downloding the file one by one\n",
    "    #filename = Fido.fetch(file)#Puts files on computer  \n",
    "    \n",
    "    #fff = ((filename[0].split('\\\\'))[5]).split('.')\n",
    "    \n",
    "    #map0 = sunpy.map.Map(filename) #Reades files\n",
    "    #map_resample = map0.resample(new_dim)#Change size  \n",
    "    #map_resample.save('%s_256x256.fits'%(fff[0]))\n",
    "\n",
    "    #os.remove('../sunpy/data/%s'%(filename[0].split('\\\\'))[5])\n",
    "    \n",
    "   \n",
    "    \n",
    "    "
   ]
  },
  {
   "cell_type": "code",
   "execution_count": 43,
   "id": "9928c366",
   "metadata": {},
   "outputs": [
    {
     "name": "stdout",
     "output_type": "stream",
     "text": [
      "aia_lev1_94a_2021_01_17t00_01_11_13z_image_lev1_256x256.fits\n"
     ]
    }
   ],
   "source": [
    "print()"
   ]
  },
  {
   "cell_type": "code",
   "execution_count": null,
   "id": "31bb169e",
   "metadata": {},
   "outputs": [],
   "source": []
  },
  {
   "cell_type": "code",
   "execution_count": 27,
   "id": "81574153",
   "metadata": {},
   "outputs": [
    {
     "name": "stderr",
     "output_type": "stream",
     "text": [
      "WARNING: VerifyWarning: Invalid 'BLANK' keyword in header.  The 'BLANK' keyword is only applicable to integer data, and will be ignored in this HDU. [astropy.io.fits.hdu.image]\n"
     ]
    }
   ],
   "source": [
    "#one_file = \"../sunpy/data/aia_lev1_94a_2021_01_17t00_01_59_14z_image_lev1.fits\" \n",
    "#map1= sunpy.map.Map(one_file)\n",
    "#file_resample= map1.resample(new_dim) \n",
    "#new_one = file_resample.save('file_resample.fits') #Saved to Internship Folder \n",
    "#os.remove(\"../sunpy/data/aia_lev1_94a_2021_01_17t00_01_59_14z_image_lev1.fits\")\n",
    "#file is saved in Internship File\n"
   ]
  }
 ],
 "metadata": {
  "kernelspec": {
   "display_name": "Python 3 (ipykernel)",
   "language": "python",
   "name": "python3"
  },
  "language_info": {
   "codemirror_mode": {
    "name": "ipython",
    "version": 3
   },
   "file_extension": ".py",
   "mimetype": "text/x-python",
   "name": "python",
   "nbconvert_exporter": "python",
   "pygments_lexer": "ipython3",
   "version": "3.9.12"
  }
 },
 "nbformat": 4,
 "nbformat_minor": 5
}
