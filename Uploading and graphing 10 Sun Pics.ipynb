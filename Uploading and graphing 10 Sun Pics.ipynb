{
 "cells": [
  {
   "cell_type": "code",
   "execution_count": 1,
   "id": "adcab300",
   "metadata": {},
   "outputs": [],
   "source": [
    "import copy\n",
    "import glob\n",
    "\n",
    "import matplotlib\n",
    "import matplotlib.pyplot as plt\n",
    "from mpl_toolkits.axes_grid1 import make_axes_locatable\n",
    "import numpy as np\n",
    "from IPython.display import HTML\n",
    "\n",
    "import astropy.table\n",
    "from astropy.coordinates import SkyCoord\n",
    "import astropy.units as u\n",
    "from astropy.visualization import AsymmetricPercentileInterval, ImageNormalize, LogStretch\n",
    "\n",
    "import sunpy.map\n",
    "import sunpy.timeseries\n",
    "import sunpy.sun.constants\n",
    "from sunpy.coordinates import Helioprojective "
   ]
  },
  {
   "cell_type": "code",
   "execution_count": 2,
   "id": "8e2058c4",
   "metadata": {},
   "outputs": [],
   "source": [
    "Files_name= [r\"C:\\Users\\14242\\data\\AIA\\First Pic of Sun.fits\", \n",
    "            r\"C:\\Users\\14242\\data\\AIA\\2 Pic Sun.fits\",  \n",
    "            r\"C:\\Users\\14242\\data\\AIA\\3 Pic Sun.fits\", \n",
    "            r\"C:\\Users\\14242\\data\\AIA\\4 Pic Sun.fits\", \n",
    "            r\"C:\\Users\\14242\\data\\AIA\\5 Pic Sun.fits\", \n",
    "             r\"C:\\Users\\14242\\data\\AIA\\6 Pic Sun.fits\", \n",
    "             r\"C:\\Users\\14242\\data\\AIA\\7 Pic Sun.fits\", \n",
    "             r\"C:\\Users\\14242\\data\\AIA\\8 Pic Sun.fits\", \n",
    "             r\"C:\\Users\\14242\\data\\AIA\\9 Pic Sun.fits\", \n",
    "             r\"C:\\Users\\14242\\data\\AIA\\10 Pic Sun.fits\"]\n",
    "            \n",
    "    "
   ]
  },
  {
   "cell_type": "code",
   "execution_count": 3,
   "id": "a999a5a6",
   "metadata": {},
   "outputs": [],
   "source": [
    "averages = [] \n",
    "for Sun in Files_name: \n",
    "    SunMap= sunpy.map.Map(Sun) \n",
    "    averages.append(np.average(SunMap.data))"
   ]
  },
  {
   "cell_type": "code",
   "execution_count": 4,
   "id": "cefc573e",
   "metadata": {},
   "outputs": [
    {
     "data": {
      "text/plain": [
       "[1.2829936,\n",
       " 1.2807041,\n",
       " 1.2832824,\n",
       " 1.2851079,\n",
       " 1.2819651,\n",
       " 1.2807633,\n",
       " 1.2817564,\n",
       " 1.2800424,\n",
       " 1.2816405,\n",
       " 1.2787994]"
      ]
     },
     "execution_count": 4,
     "metadata": {},
     "output_type": "execute_result"
    }
   ],
   "source": [
    "averages"
   ]
  },
  {
   "cell_type": "code",
   "execution_count": 5,
   "id": "26fd5e11",
   "metadata": {},
   "outputs": [
    {
     "data": {
      "text/plain": [
       "array([1.2829936, 1.2807041, 1.2832824, 1.2851079, 1.2819651, 1.2807633,\n",
       "       1.2817564, 1.2800424, 1.2816405, 1.2787994])"
      ]
     },
     "execution_count": 5,
     "metadata": {},
     "output_type": "execute_result"
    }
   ],
   "source": [
    "Arr= np.array([1.2829936,1.2807041,1.2832824,1.2851079,1.2819651,\n",
    " 1.2807633,1.2817564,1.2800424,1.2816405,1.2787994]) \n",
    "Arr"
   ]
  },
  {
   "cell_type": "code",
   "execution_count": 6,
   "id": "2bd8c1f7",
   "metadata": {},
   "outputs": [
    {
     "data": {
      "text/plain": [
       "1.2817055099999999"
      ]
     },
     "execution_count": 6,
     "metadata": {},
     "output_type": "execute_result"
    }
   ],
   "source": [
    "row_adv = np.average(Arr, axis = 0)\n",
    "row_adv"
   ]
  },
  {
   "cell_type": "code",
   "execution_count": 7,
   "id": "ec2fa050",
   "metadata": {},
   "outputs": [
    {
     "data": {
      "text/plain": [
       "(10,)"
      ]
     },
     "execution_count": 7,
     "metadata": {},
     "output_type": "execute_result"
    }
   ],
   "source": [
    "Arr.shape"
   ]
  },
  {
   "cell_type": "code",
   "execution_count": 8,
   "id": "c580bf7a",
   "metadata": {},
   "outputs": [
    {
     "data": {
      "text/plain": [
       "array([1.11022302e-16])"
      ]
     },
     "execution_count": 8,
     "metadata": {},
     "output_type": "execute_result"
    }
   ],
   "source": [
    "row_adv_col_vec = row_adv.reshape((1,1)) \n",
    "broadcast_demeaned = Arr - row_adv_col_vec \n",
    "broadcast_demeaned.mean(axis = 1) \n"
   ]
  },
  {
   "cell_type": "code",
   "execution_count": 9,
   "id": "b0dd6936",
   "metadata": {},
   "outputs": [
    {
     "data": {
      "text/plain": [
       "array([0.2829936, 0.2807041, 0.2832824, 0.2851079, 0.2819651, 0.2807633,\n",
       "       0.2817564, 0.2800424, 0.2816405, 0.2787994])"
      ]
     },
     "execution_count": 9,
     "metadata": {},
     "output_type": "execute_result"
    }
   ],
   "source": [
    "#Though we can use this code to sub the adverage, what are we \n",
    "#sub from it, is it the mean. \n",
    "Arr - 1 "
   ]
  },
  {
   "cell_type": "code",
   "execution_count": 11,
   "id": "22b8658e",
   "metadata": {},
   "outputs": [
    {
     "data": {
      "text/plain": [
       "array([ 1.28809e-03, -1.00141e-03,  1.57689e-03,  3.40239e-03,\n",
       "        2.59590e-04, -9.42210e-04,  5.08900e-05, -1.66311e-03,\n",
       "       -6.50100e-05, -2.90611e-03])"
      ]
     },
     "execution_count": 11,
     "metadata": {},
     "output_type": "execute_result"
    }
   ],
   "source": [
    "#This is the subtraction of the adverage and the mean from that adverage. \n",
    "Arr - Arr.mean()"
   ]
  },
  {
   "cell_type": "code",
   "execution_count": 12,
   "id": "2e523663",
   "metadata": {},
   "outputs": [
    {
     "data": {
      "text/plain": [
       "<function matplotlib.pyplot.show(close=None, block=None)>"
      ]
     },
     "execution_count": 12,
     "metadata": {},
     "output_type": "execute_result"
    },
    {
     "data": {
      "image/png": "[encoded data removed]",
      "text/plain": [
       "<Figure size 432x288 with 1 Axes>"
      ]
     },
     "metadata": {
      "needs_background": "light"
     },
     "output_type": "display_data"
    }
   ],
   "source": [
    "#This is just a graph as with the x as the adverage and y as that sub\n",
    "plt.figure \n",
    "plt.plot (Arr,Arr- Arr.mean()) \n",
    "plt.show"
   ]
  },
  {
   "cell_type": "code",
   "execution_count": 19,
   "id": "14aeb1df",
   "metadata": {},
   "outputs": [
    {
     "data": {
      "text/plain": [
       "<function matplotlib.pyplot.show(close=None, block=None)>"
      ]
     },
     "execution_count": 19,
     "metadata": {},
     "output_type": "execute_result"
    },
    {
     "data": {
      "image/png": "[encoded data removed]",
      "text/plain": [
       "<Figure size 432x288 with 1 Axes>"
      ]
     },
     "metadata": {
      "needs_background": "light"
     },
     "output_type": "display_data"
    }
   ],
   "source": [
    "#This is a graph is for just for the sub  \n",
    "plt.figure \n",
    "plt.plot (Arr- Arr.mean()) \n",
    "plt.show"
   ]
  },
  {
   "cell_type": "code",
   "execution_count": null,
   "id": "e639304c",
   "metadata": {},
   "outputs": [],
   "source": []
  }
 ],
 "metadata": {
  "kernelspec": {
   "display_name": "Python 3 (ipykernel)",
   "language": "python",
   "name": "python3"
  },
  "language_info": {
   "codemirror_mode": {
    "name": "ipython",
    "version": 3
   },
   "file_extension": ".py",
   "mimetype": "text/x-python",
   "name": "python",
   "nbconvert_exporter": "python",
   "pygments_lexer": "ipython3",
   "version": "3.9.12"
  }
 },
 "nbformat": 4,
 "nbformat_minor": 5
}
