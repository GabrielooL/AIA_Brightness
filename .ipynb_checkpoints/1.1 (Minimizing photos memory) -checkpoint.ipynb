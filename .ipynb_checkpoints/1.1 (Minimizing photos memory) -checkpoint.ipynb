{
 "cells": [
  {
   "cell_type": "code",
   "execution_count": 1,
   "id": "b95d050f",
   "metadata": {},
   "outputs": [],
   "source": [
    "import sunpy \n",
    "import astropy.units as u\n",
    "\n",
    "from sunpy.net import Fido, attrs as a \n",
    "import astropy.time\n",
    "\n",
    "import sunpy.map\n",
    "\n",
    "from astropy.io import fits \n",
    "import matplotlib.pyplot as plt \n",
    "\n",
    "import os \n",
    "import pathlib \n",
    "\n",
    "from PIL import Image"
   ]
  },
  {
   "cell_type": "code",
   "execution_count": 2,
   "id": "248d4c08",
   "metadata": {},
   "outputs": [],
   "source": [
    "Sun_Start = \"2021-01-17T00:01\" #Start Time  \n",
    "Sun_End = \"2021-01-17T00:02\" #End time"
   ]
  },
  {
   "cell_type": "code",
   "execution_count": 3,
   "id": "20987208",
   "metadata": {},
   "outputs": [],
   "source": [
    "Sun_Time = a.Time(Sun_Start , Sun_End) "
   ]
  },
  {
   "cell_type": "code",
   "execution_count": 4,
   "id": "5832b055",
   "metadata": {},
   "outputs": [],
   "source": [
    " Data = Fido.search(Sun_Time & a.Instrument.aia & a.Wavelength(94*u.angstrom))"
   ]
  },
  {
   "cell_type": "code",
   "execution_count": null,
   "id": "48d1731d",
   "metadata": {},
   "outputs": [],
   "source": [
    "#Juciy Part of the Data (Minimize files) \n"
   ]
  },
  {
   "cell_type": "code",
   "execution_count": 5,
   "id": "090b273b",
   "metadata": {},
   "outputs": [],
   "source": [
    "new_dim = [512,512]*u.pixel"
   ]
  },
  {
   "cell_type": "code",
   "execution_count": 27,
   "id": "81574153",
   "metadata": {},
   "outputs": [
    {
     "name": "stderr",
     "output_type": "stream",
     "text": [
      "WARNING: VerifyWarning: Invalid 'BLANK' keyword in header.  The 'BLANK' keyword is only applicable to integer data, and will be ignored in this HDU. [astropy.io.fits.hdu.image]\n"
     ]
    }
   ],
   "source": [
    "#one_file = \"../sunpy/data/aia_lev1_94a_2021_01_17t00_01_59_14z_image_lev1.fits\" \n",
    "map1= sunpy.map.Map(one_file)\n",
    "file_resample= map1.resample(new_dim) \n",
    "new_one = file_resample.save('file_resample.fits') #Saved to Internship Folder \n",
    "os.remove(\"../sunpy/data/aia_lev1_94a_2021_01_17t00_01_59_14z_image_lev1.fits\")\n",
    "#file is saved in Internship File\n"
   ]
  },
  {
   "cell_type": "code",
   "execution_count": 30,
   "id": "a531d7b1",
   "metadata": {},
   "outputs": [],
   "source": [
    "i=0"
   ]
  },
  {
   "cell_type": "code",
   "execution_count": 46,
   "id": "a65072a3",
   "metadata": {
    "scrolled": false
   },
   "outputs": [
    {
     "data": {
      "application/vnd.jupyter.widget-view+json": {
       "model_id": "75cd8f0d7e334bd6922dc813562847df",
       "version_major": 2,
       "version_minor": 0
      },
      "text/plain": [
       "Files Downloaded:   0%|          | 0/1 [00:00<?, ?file/s]"
      ]
     },
     "metadata": {},
     "output_type": "display_data"
    },
    {
     "data": {
      "application/vnd.jupyter.widget-view+json": {
       "model_id": "8aa677e4627d48338956130fe42b3306",
       "version_major": 2,
       "version_minor": 0
      },
      "text/plain": [
       "Files Downloaded:   0%|          | 0/1 [00:00<?, ?file/s]"
      ]
     },
     "metadata": {},
     "output_type": "display_data"
    },
    {
     "data": {
      "application/vnd.jupyter.widget-view+json": {
       "model_id": "ca43688850004e3e891205c8ff80368b",
       "version_major": 2,
       "version_minor": 0
      },
      "text/plain": [
       "Files Downloaded:   0%|          | 0/1 [00:00<?, ?file/s]"
      ]
     },
     "metadata": {},
     "output_type": "display_data"
    },
    {
     "data": {
      "application/vnd.jupyter.widget-view+json": {
       "model_id": "698119f079c84f179988f514407a49a4",
       "version_major": 2,
       "version_minor": 0
      },
      "text/plain": [
       "Files Downloaded:   0%|          | 0/1 [00:00<?, ?file/s]"
      ]
     },
     "metadata": {},
     "output_type": "display_data"
    },
    {
     "data": {
      "application/vnd.jupyter.widget-view+json": {
       "model_id": "f0b3206c30624ec680294640e2d4277a",
       "version_major": 2,
       "version_minor": 0
      },
      "text/plain": [
       "Files Downloaded:   0%|          | 0/1 [00:00<?, ?file/s]"
      ]
     },
     "metadata": {},
     "output_type": "display_data"
    },
    {
     "data": {
      "application/vnd.jupyter.widget-view+json": {
       "model_id": "",
       "version_major": 2,
       "version_minor": 0
      },
      "text/plain": [
       "aia_lev1_94a_2021_01_17t00_01_59_14z_image_lev1.fits:   0%|          | 0.00/10.5M [00:00<?, ?B/s]"
      ]
     },
     "metadata": {},
     "output_type": "display_data"
    }
   ],
   "source": [
    "for file in Data[0]: #Data[0] helps with downloding the file one by one\n",
    "    filename = Fido.fetch(file)#Puts files on computer \n",
    "    fff = ((filename[0].split('\\\\'))[5]).split('.')\n",
    "    \n",
    "    map0 = sunpy.map.Map(filename) #Reades files\n",
    "    map_resample = map0.resample(new_dim)#Change size  \n",
    "    map_resample.save('%s_256x256.fits'%(fff[0]))\n",
    "\n",
    "    os.remove('../sunpy/data/%s'%(filename[0].split('\\\\'))[5])\n",
    "    \n",
    "   \n",
    "    \n",
    "    "
   ]
  },
  {
   "cell_type": "code",
   "execution_count": 40,
   "id": "e16d06b9",
   "metadata": {},
   "outputs": [],
   "source": []
  },
  {
   "cell_type": "code",
   "execution_count": 14,
   "id": "cef7d925",
   "metadata": {},
   "outputs": [],
   "source": [
    "os.remove('../sunpy/data/aia20220801_000000_0094.fits')"
   ]
  },
  {
   "cell_type": "code",
   "execution_count": 43,
   "id": "9928c366",
   "metadata": {},
   "outputs": [
    {
     "name": "stdout",
     "output_type": "stream",
     "text": [
      "aia_lev1_94a_2021_01_17t00_01_11_13z_image_lev1_256x256.fits\n"
     ]
    }
   ],
   "source": [
    "print()"
   ]
  },
  {
   "cell_type": "code",
   "execution_count": null,
   "id": "31bb169e",
   "metadata": {},
   "outputs": [],
   "source": []
  }
 ],
 "metadata": {
  "kernelspec": {
   "display_name": "Python 3 (ipykernel)",
   "language": "python",
   "name": "python3"
  },
  "language_info": {
   "codemirror_mode": {
    "name": "ipython",
    "version": 3
   },
   "file_extension": ".py",
   "mimetype": "text/x-python",
   "name": "python",
   "nbconvert_exporter": "python",
   "pygments_lexer": "ipython3",
   "version": "3.9.12"
  }
 },
 "nbformat": 4,
 "nbformat_minor": 5
}
