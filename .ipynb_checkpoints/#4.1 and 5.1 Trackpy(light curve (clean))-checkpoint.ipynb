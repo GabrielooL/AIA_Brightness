{
 "cells": [
  {
   "cell_type": "code",
   "execution_count": 1,
   "id": "d6df9982",
   "metadata": {},
   "outputs": [],
   "source": [
    "from astropy.io import fits as astro_fits  \n",
    "from astropy.io.fits import getdata\n",
    "\n",
    "import copy\n",
    "import glob\n",
    "\n",
    "import matplotlib\n",
    "import matplotlib.pyplot as plt\n",
    "from mpl_toolkits.axes_grid1 import make_axes_locatable \n",
    "import matplotlib as mpl \n",
    "from matplotlib.collections import LineCollection\n",
    "\n",
    "\n",
    "import numpy as np\n",
    "from IPython.display import HTML\n",
    "\n",
    "import astropy.table\n",
    "from astropy.coordinates import SkyCoord\n",
    "import astropy.units as u\n",
    "from astropy.visualization import AsymmetricPercentileInterval, ImageNormalize, LogStretch \n",
    "\n",
    "#These packages are for Using TrackPy\n",
    "import matplotlib.pyplot as plt \n",
    "import pandas as pd\n",
    "from pandas import DataFrame, Series  # for convenience\n",
    "import pims\n",
    "import trackpy as tp \n",
    "from numpy import sqrt  "
   ]
  },
  {
   "cell_type": "code",
   "execution_count": 2,
   "id": "a40d32b3",
   "metadata": {},
   "outputs": [],
   "source": [
    "List_2 = glob.glob(r'C:\\Users\\14242\\2022 Summer Internship\\Sun Pics Part 2 (10 pics)\\*')"
   ]
  },
  {
   "cell_type": "code",
   "execution_count": 3,
   "id": "d54e6d2a",
   "metadata": {},
   "outputs": [],
   "source": [
    "data_average = [] #Averages subtracted data\n",
    "data_median = [] #Median subtracted data\n",
    "for Polar in List_2: \n",
    "    Polardata = getdata(Polar) \n",
    "    data_average.append(Polardata - np.average(Polardata)) \n",
    "    data_median.append(Polardata - np.median(Polardata))  \n",
    "    \n",
    "Arr=np.array(data_average)#Converts Arr list into numpy array"
   ]
  },
  {
   "cell_type": "code",
   "execution_count": 4,
   "id": "c9b1c112",
   "metadata": {},
   "outputs": [
    {
     "data": {
      "image/png": "[encoded data removed]",
      "text/plain": [
       "<Figure size 432x288 with 1 Axes>"
      ]
     },
     "metadata": {
      "needs_background": "light"
     },
     "output_type": "display_data"
    }
   ],
   "source": [
    "#Use trackpy to locate Gaussian-like blobs of some image\n",
    "f = tp.locate(Arr[0], 11, invert = True, minmass = 70) \n",
    "\n",
    "tp.annotate(f,Arr[0]);#Creates the graph of f "
   ]
  },
  {
   "cell_type": "code",
   "execution_count": 5,
   "id": "8803b88b",
   "metadata": {},
   "outputs": [
    {
     "ename": "MemoryError",
     "evalue": "Unable to allocate 128. MiB for an array with shape (4096, 4096) and data type float64",
     "output_type": "error",
     "traceback": [
      "\u001b[1;31m---------------------------------------------------------------------------\u001b[0m",
      "\u001b[1;31mRemoteTraceback\u001b[0m                           Traceback (most recent call last)",
      "\u001b[1;31mRemoteTraceback\u001b[0m: \n\"\"\"\nTraceback (most recent call last):\n  File \"C:\\Users\\14242\\anaconda3\\lib\\multiprocessing\\pool.py\", line 125, in worker\n    result = (True, func(*args, **kwds))\n  File \"C:\\Users\\14242\\anaconda3\\lib\\site-packages\\trackpy\\feature.py\", line 369, in locate\n    image = bandpass(raw_image, noise_size, smoothing_size, threshold)\n  File \"C:\\Users\\14242\\anaconda3\\lib\\site-packages\\trackpy\\preprocessing.py\", line 140, in bandpass\n    return np.where(result >= threshold, result, 0)\n  File \"<__array_function__ internals>\", line 5, in where\nnumpy.core._exceptions._ArrayMemoryError: Unable to allocate 128. MiB for an array with shape (4096, 4096) and data type float64\n\"\"\"",
      "\nThe above exception was the direct cause of the following exception:\n",
      "\u001b[1;31mMemoryError\u001b[0m                               Traceback (most recent call last)",
      "Input \u001b[1;32mIn [5]\u001b[0m, in \u001b[0;36m<cell line: 2>\u001b[1;34m()\u001b[0m\n\u001b[0;32m      1\u001b[0m \u001b[38;5;66;03m#Tells us the frames and features of the photos \u001b[39;00m\n\u001b[1;32m----> 2\u001b[0m r \u001b[38;5;241m=\u001b[39m \u001b[43mtp\u001b[49m\u001b[38;5;241;43m.\u001b[39;49m\u001b[43mbatch\u001b[49m\u001b[43m(\u001b[49m\u001b[43mArr\u001b[49m\u001b[43m,\u001b[49m\u001b[38;5;241;43m11\u001b[39;49m\u001b[43m,\u001b[49m\u001b[43m \u001b[49m\u001b[43mminmass\u001b[49m\u001b[43m \u001b[49m\u001b[38;5;241;43m=\u001b[39;49m\u001b[38;5;241;43m50\u001b[39;49m\u001b[43m)\u001b[49m\n",
      "File \u001b[1;32m~\\anaconda3\\lib\\site-packages\\trackpy\\feature.py:557\u001b[0m, in \u001b[0;36mbatch\u001b[1;34m(frames, diameter, output, meta, processes, after_locate, **kwargs)\u001b[0m\n\u001b[0;32m    555\u001b[0m \u001b[38;5;28;01mtry\u001b[39;00m:\n\u001b[0;32m    556\u001b[0m     all_features \u001b[38;5;241m=\u001b[39m []\n\u001b[1;32m--> 557\u001b[0m     \u001b[38;5;28;01mfor\u001b[39;00m i, features \u001b[38;5;129;01min\u001b[39;00m \u001b[38;5;28menumerate\u001b[39m(map_func(curried_locate, frames)):\n\u001b[0;32m    558\u001b[0m         image \u001b[38;5;241m=\u001b[39m frames[i]\n\u001b[0;32m    559\u001b[0m         \u001b[38;5;28;01mif\u001b[39;00m \u001b[38;5;28mhasattr\u001b[39m(image, \u001b[38;5;124m'\u001b[39m\u001b[38;5;124mframe_no\u001b[39m\u001b[38;5;124m'\u001b[39m) \u001b[38;5;129;01mand\u001b[39;00m image\u001b[38;5;241m.\u001b[39mframe_no \u001b[38;5;129;01mis\u001b[39;00m \u001b[38;5;129;01mnot\u001b[39;00m \u001b[38;5;28;01mNone\u001b[39;00m:\n",
      "File \u001b[1;32m~\\anaconda3\\lib\\multiprocessing\\pool.py:870\u001b[0m, in \u001b[0;36mIMapIterator.next\u001b[1;34m(self, timeout)\u001b[0m\n\u001b[0;32m    868\u001b[0m \u001b[38;5;28;01mif\u001b[39;00m success:\n\u001b[0;32m    869\u001b[0m     \u001b[38;5;28;01mreturn\u001b[39;00m value\n\u001b[1;32m--> 870\u001b[0m \u001b[38;5;28;01mraise\u001b[39;00m value\n",
      "\u001b[1;31mMemoryError\u001b[0m: Unable to allocate 128. MiB for an array with shape (4096, 4096) and data type float64"
     ]
    }
   ],
   "source": [
    "#Tells us the frames and features of the photos \n",
    "r = tp.batch(Arr,11, minmass =50); "
   ]
  },
  {
   "cell_type": "code",
   "execution_count": null,
   "id": "40c0325d",
   "metadata": {},
   "outputs": [],
   "source": [
    "t = tp.link(r,5,memory = 9)"
   ]
  },
  {
   "cell_type": "code",
   "execution_count": null,
   "id": "4716cb56",
   "metadata": {},
   "outputs": [],
   "source": [
    "t1 = tp.filter_stubs(t,5) #Filters out Spurious traj \n",
    "print('Before:', t['particle'].nunique())\n",
    "print('After:', t1['particle'].nunique())"
   ]
  },
  {
   "cell_type": "code",
   "execution_count": null,
   "id": "97c7a6ce",
   "metadata": {},
   "outputs": [],
   "source": [
    "#This cell will be for the code to filter out the particals that are not needed \n",
    "t2 = t1[((t1['mass'] <400 ) & (t1['size'] > 2.2) &\n",
    "         (t1['ecc'] < 1))]"
   ]
  },
  {
   "cell_type": "code",
   "execution_count": null,
   "id": "f8052cb7",
   "metadata": {},
   "outputs": [],
   "source": [
    "#Variable of original radius of the sun. \n",
    "R = 1625.691406"
   ]
  },
  {
   "cell_type": "code",
   "execution_count": null,
   "id": "11cd7a55",
   "metadata": {},
   "outputs": [],
   "source": [
    "iloc_valid = []\n",
    "\n",
    "for i in range(len(t)): #I changed f into t \n",
    "    r = np.sqrt((t2['x'].iloc[i]- 2070.828369)**2 + (t2['y'].iloc[i] - 2008.760620)**2)\n",
    "    if r<R: \n",
    "        print (r, t2['particle'].iloc[i])\n",
    "        iloc_valid.append(i)\n",
    "  "
   ]
  },
  {
   "cell_type": "code",
   "execution_count": null,
   "id": "542620ec",
   "metadata": {},
   "outputs": [],
   "source": [
    "Tot_part = len(t2.iloc[iloc_valid].particle.unique())#Total # of particles        \n",
    "Position = range(1,Tot_part+1) \n",
    "fig = plt.figure(1,figsize = (10,45)) \n",
    "\n",
    "i = 0\n",
    "for p in range(Tot_part): ##Repeats the action below \n",
    "       \n",
    "    if not (t2.loc[t2.particle==p].empty): \n",
    "        ax = fig.add_subplot(Tot_part, 1,Position[i])##Defining Plots axis bounds \n",
    "        ax.set_xlim((0,9))##Sets Frame bounds \n",
    "        t2.loc[t2.particle==p].plot(x='frame',y='signal', \n",
    "                               style = '-o',label =f'part {p}',ax=ax) \n",
    "        i += 1\n",
    "plt.show()"
   ]
  },
  {
   "cell_type": "code",
   "execution_count": null,
   "id": "28aa5fc1",
   "metadata": {},
   "outputs": [],
   "source": [
    "Bull=[]\n",
    "for i in range(10): \n",
    "    s= t2.iloc[iloc_valid].loc[i].sum(axis=0).loc['signal']  \n",
    "    Bull+=[s]\n",
    "\n",
    "    "
   ]
  },
  {
   "cell_type": "code",
   "execution_count": null,
   "id": "976fbd9a",
   "metadata": {},
   "outputs": [],
   "source": [
    "x = np.linspace(0, 9, num=10)\n",
    "y = np.array(Bull)\n",
    "\n",
    "plt.title('Light Curve')\n",
    "plt.plot(x, y, color=\"red\")\n",
    "\n",
    "plt.show()"
   ]
  },
  {
   "cell_type": "code",
   "execution_count": null,
   "id": "11490785",
   "metadata": {},
   "outputs": [],
   "source": []
  }
 ],
 "metadata": {
  "kernelspec": {
   "display_name": "Python 3 (ipykernel)",
   "language": "python",
   "name": "python3"
  },
  "language_info": {
   "codemirror_mode": {
    "name": "ipython",
    "version": 3
   },
   "file_extension": ".py",
   "mimetype": "text/x-python",
   "name": "python",
   "nbconvert_exporter": "python",
   "pygments_lexer": "ipython3",
   "version": "3.9.12"
  }
 },
 "nbformat": 4,
 "nbformat_minor": 5
}
