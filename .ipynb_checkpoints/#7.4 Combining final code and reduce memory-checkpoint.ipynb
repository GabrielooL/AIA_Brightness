{
 "cells": [
  {
   "cell_type": "code",
   "execution_count": 2,
   "id": "3c354bf4",
   "metadata": {},
   "outputs": [],
   "source": [
    "import sunpy \n",
    "import astropy.units as u\n",
    "\n",
    "from sunpy.net import Fido, attrs as a \n",
    "import astropy.time\n",
    "\n",
    "import sunpy.map\n",
    "\n",
    "from astropy.io import fits \n",
    "import matplotlib.pyplot as plt \n",
    "\n",
    "import os \n",
    "import pathlib \n",
    "\n",
    "from PIL import Image \n",
    "\n",
    "from astropy.io import fits as astro_fits  \n",
    "from astropy.io.fits import getdata\n",
    "\n",
    "import copy\n",
    "import glob\n",
    "\n",
    "import matplotlib\n",
    "from mpl_toolkits.axes_grid1 import make_axes_locatable \n",
    "import matplotlib as mpl \n",
    "from matplotlib.collections import LineCollection\n",
    "import numpy as np\n",
    "from IPython.display import HTML\n",
    "\n",
    "import astropy.table\n",
    "from astropy.coordinates import SkyCoord\n",
    "import astropy.units as u\n",
    "from astropy.visualization import AsymmetricPercentileInterval, ImageNormalize, LogStretch \n",
    "\n",
    "#These packages are for Using TrackPy\n",
    "import matplotlib.pyplot as plt \n",
    "import pandas as pd\n",
    "from pandas import DataFrame, Series  # for convenience\n",
    "import pims\n",
    "import trackpy as tp \n",
    "from numpy import sqrt  "
   ]
  },
  {
   "cell_type": "code",
   "execution_count": 2,
   "id": "3809ffd6",
   "metadata": {},
   "outputs": [],
   "source": [
    "Sun_Start = \"2021-01-17T1:00\" #Start Time  \n",
    "Sun_End = \"2021-01-17T1:05\" #End time \n",
    "\n",
    "Sun_Time = a.Time(Sun_Start , Sun_End) "
   ]
  },
  {
   "cell_type": "code",
   "execution_count": 3,
   "id": "ecb74a11",
   "metadata": {},
   "outputs": [],
   "source": [
    " Data = Fido.search(Sun_Time & a.Instrument.aia & a.Wavelength(94*u.angstrom)) "
   ]
  },
  {
   "cell_type": "code",
   "execution_count": 4,
   "id": "cd152c1b",
   "metadata": {},
   "outputs": [],
   "source": [
    "new_dim = [512,512]*u.pixel"
   ]
  },
  {
   "cell_type": "code",
   "execution_count": 5,
   "id": "721513fa",
   "metadata": {},
   "outputs": [
    {
     "data": {
      "application/vnd.jupyter.widget-view+json": {
       "model_id": "2b50898cfdf741d78591bfc4cd3b9d6d",
       "version_major": 2,
       "version_minor": 0
      },
      "text/plain": [
       "Files Downloaded:   0%|          | 0/1 [00:00<?, ?file/s]"
      ]
     },
     "metadata": {},
     "output_type": "display_data"
    },
    {
     "data": {
      "application/vnd.jupyter.widget-view+json": {
       "model_id": "",
       "version_major": 2,
       "version_minor": 0
      },
      "text/plain": [
       "aia_lev1_94a_2021_01_17t01_00_11_12z_image_lev1.fits:   0%|          | 0.00/10.5M [00:00<?, ?B/s]"
      ]
     },
     "metadata": {},
     "output_type": "display_data"
    },
    {
     "name": "stderr",
     "output_type": "stream",
     "text": [
      "WARNING: VerifyWarning: Invalid 'BLANK' keyword in header.  The 'BLANK' keyword is only applicable to integer data, and will be ignored in this HDU. [astropy.io.fits.hdu.image]\n"
     ]
    },
    {
     "data": {
      "application/vnd.jupyter.widget-view+json": {
       "model_id": "70210ab5c5c14451b5ee2314a290d082",
       "version_major": 2,
       "version_minor": 0
      },
      "text/plain": [
       "Files Downloaded:   0%|          | 0/1 [00:00<?, ?file/s]"
      ]
     },
     "metadata": {},
     "output_type": "display_data"
    },
    {
     "data": {
      "application/vnd.jupyter.widget-view+json": {
       "model_id": "ab54425c99e348bc86fafe3b498d041b",
       "version_major": 2,
       "version_minor": 0
      },
      "text/plain": [
       "Files Downloaded:   0%|          | 0/1 [00:00<?, ?file/s]"
      ]
     },
     "metadata": {},
     "output_type": "display_data"
    },
    {
     "data": {
      "application/vnd.jupyter.widget-view+json": {
       "model_id": "",
       "version_major": 2,
       "version_minor": 0
      },
      "text/plain": [
       "aia_lev1_94a_2021_01_17t01_00_35_12z_image_lev1.fits:   0%|          | 0.00/10.5M [00:00<?, ?B/s]"
      ]
     },
     "metadata": {},
     "output_type": "display_data"
    },
    {
     "data": {
      "application/vnd.jupyter.widget-view+json": {
       "model_id": "e3e49d60434046318cdbbc825fa439f3",
       "version_major": 2,
       "version_minor": 0
      },
      "text/plain": [
       "Files Downloaded:   0%|          | 0/1 [00:00<?, ?file/s]"
      ]
     },
     "metadata": {},
     "output_type": "display_data"
    },
    {
     "data": {
      "application/vnd.jupyter.widget-view+json": {
       "model_id": "",
       "version_major": 2,
       "version_minor": 0
      },
      "text/plain": [
       "aia_lev1_94a_2021_01_17t01_00_47_15z_image_lev1.fits:   0%|          | 0.00/10.5M [00:00<?, ?B/s]"
      ]
     },
     "metadata": {},
     "output_type": "display_data"
    },
    {
     "data": {
      "application/vnd.jupyter.widget-view+json": {
       "model_id": "aeb996042a0f47ca9b14b6c9ab74f14f",
       "version_major": 2,
       "version_minor": 0
      },
      "text/plain": [
       "Files Downloaded:   0%|          | 0/1 [00:00<?, ?file/s]"
      ]
     },
     "metadata": {},
     "output_type": "display_data"
    },
    {
     "data": {
      "application/vnd.jupyter.widget-view+json": {
       "model_id": "54e47d5182d847f386d29bc4e6cc703a",
       "version_major": 2,
       "version_minor": 0
      },
      "text/plain": [
       "Files Downloaded:   0%|          | 0/1 [00:00<?, ?file/s]"
      ]
     },
     "metadata": {},
     "output_type": "display_data"
    },
    {
     "data": {
      "application/vnd.jupyter.widget-view+json": {
       "model_id": "",
       "version_major": 2,
       "version_minor": 0
      },
      "text/plain": [
       "aia_lev1_94a_2021_01_17t01_01_11_12z_image_lev1.fits:   0%|          | 0.00/10.5M [00:00<?, ?B/s]"
      ]
     },
     "metadata": {},
     "output_type": "display_data"
    },
    {
     "data": {
      "application/vnd.jupyter.widget-view+json": {
       "model_id": "894610b4f9c24ae790baf8f04d06550c",
       "version_major": 2,
       "version_minor": 0
      },
      "text/plain": [
       "Files Downloaded:   0%|          | 0/1 [00:00<?, ?file/s]"
      ]
     },
     "metadata": {},
     "output_type": "display_data"
    },
    {
     "data": {
      "application/vnd.jupyter.widget-view+json": {
       "model_id": "",
       "version_major": 2,
       "version_minor": 0
      },
      "text/plain": [
       "aia_lev1_94a_2021_01_17t01_01_23_12z_image_lev1.fits:   0%|          | 0.00/10.5M [00:00<?, ?B/s]"
      ]
     },
     "metadata": {},
     "output_type": "display_data"
    },
    {
     "data": {
      "application/vnd.jupyter.widget-view+json": {
       "model_id": "952f8f4864a649b1b679dfbfa0dcc0b9",
       "version_major": 2,
       "version_minor": 0
      },
      "text/plain": [
       "Files Downloaded:   0%|          | 0/1 [00:00<?, ?file/s]"
      ]
     },
     "metadata": {},
     "output_type": "display_data"
    },
    {
     "data": {
      "application/vnd.jupyter.widget-view+json": {
       "model_id": "",
       "version_major": 2,
       "version_minor": 0
      },
      "text/plain": [
       "aia_lev1_94a_2021_01_17t01_01_35_13z_image_lev1.fits:   0%|          | 0.00/10.5M [00:00<?, ?B/s]"
      ]
     },
     "metadata": {},
     "output_type": "display_data"
    },
    {
     "data": {
      "application/vnd.jupyter.widget-view+json": {
       "model_id": "b1c0f698cd554c7dbb3c8d83047a26b2",
       "version_major": 2,
       "version_minor": 0
      },
      "text/plain": [
       "Files Downloaded:   0%|          | 0/1 [00:00<?, ?file/s]"
      ]
     },
     "metadata": {},
     "output_type": "display_data"
    },
    {
     "data": {
      "application/vnd.jupyter.widget-view+json": {
       "model_id": "",
       "version_major": 2,
       "version_minor": 0
      },
      "text/plain": [
       "aia_lev1_94a_2021_01_17t01_01_47_12z_image_lev1.fits:   0%|          | 0.00/10.5M [00:00<?, ?B/s]"
      ]
     },
     "metadata": {},
     "output_type": "display_data"
    },
    {
     "data": {
      "application/vnd.jupyter.widget-view+json": {
       "model_id": "3c0941e11c744a7794855ac4a42e4273",
       "version_major": 2,
       "version_minor": 0
      },
      "text/plain": [
       "Files Downloaded:   0%|          | 0/1 [00:00<?, ?file/s]"
      ]
     },
     "metadata": {},
     "output_type": "display_data"
    },
    {
     "data": {
      "application/vnd.jupyter.widget-view+json": {
       "model_id": "",
       "version_major": 2,
       "version_minor": 0
      },
      "text/plain": [
       "aia_lev1_94a_2021_01_17t01_01_59_14z_image_lev1.fits:   0%|          | 0.00/10.5M [00:00<?, ?B/s]"
      ]
     },
     "metadata": {},
     "output_type": "display_data"
    },
    {
     "data": {
      "application/vnd.jupyter.widget-view+json": {
       "model_id": "dc5240335f6c4a89a216791ad7e37259",
       "version_major": 2,
       "version_minor": 0
      },
      "text/plain": [
       "Files Downloaded:   0%|          | 0/1 [00:00<?, ?file/s]"
      ]
     },
     "metadata": {},
     "output_type": "display_data"
    },
    {
     "data": {
      "application/vnd.jupyter.widget-view+json": {
       "model_id": "",
       "version_major": 2,
       "version_minor": 0
      },
      "text/plain": [
       "aia_lev1_94a_2021_01_17t01_02_11_12z_image_lev1.fits:   0%|          | 0.00/10.5M [00:00<?, ?B/s]"
      ]
     },
     "metadata": {},
     "output_type": "display_data"
    },
    {
     "data": {
      "application/vnd.jupyter.widget-view+json": {
       "model_id": "78370bf2add543c28b2e0b40e2556749",
       "version_major": 2,
       "version_minor": 0
      },
      "text/plain": [
       "Files Downloaded:   0%|          | 0/1 [00:00<?, ?file/s]"
      ]
     },
     "metadata": {},
     "output_type": "display_data"
    },
    {
     "data": {
      "application/vnd.jupyter.widget-view+json": {
       "model_id": "",
       "version_major": 2,
       "version_minor": 0
      },
      "text/plain": [
       "aia_lev1_94a_2021_01_17t01_02_23_13z_image_lev1.fits:   0%|          | 0.00/10.5M [00:00<?, ?B/s]"
      ]
     },
     "metadata": {},
     "output_type": "display_data"
    },
    {
     "data": {
      "application/vnd.jupyter.widget-view+json": {
       "model_id": "4923bb4357cd4546bcba0fd8d356681c",
       "version_major": 2,
       "version_minor": 0
      },
      "text/plain": [
       "Files Downloaded:   0%|          | 0/1 [00:00<?, ?file/s]"
      ]
     },
     "metadata": {},
     "output_type": "display_data"
    },
    {
     "data": {
      "application/vnd.jupyter.widget-view+json": {
       "model_id": "",
       "version_major": 2,
       "version_minor": 0
      },
      "text/plain": [
       "aia_lev1_94a_2021_01_17t01_02_35_12z_image_lev1.fits:   0%|          | 0.00/10.5M [00:00<?, ?B/s]"
      ]
     },
     "metadata": {},
     "output_type": "display_data"
    },
    {
     "data": {
      "application/vnd.jupyter.widget-view+json": {
       "model_id": "9cb6eff2d18e4751ab689b45d01c1d29",
       "version_major": 2,
       "version_minor": 0
      },
      "text/plain": [
       "Files Downloaded:   0%|          | 0/1 [00:00<?, ?file/s]"
      ]
     },
     "metadata": {},
     "output_type": "display_data"
    },
    {
     "data": {
      "application/vnd.jupyter.widget-view+json": {
       "model_id": "",
       "version_major": 2,
       "version_minor": 0
      },
      "text/plain": [
       "aia_lev1_94a_2021_01_17t01_02_47_12z_image_lev1.fits:   0%|          | 0.00/10.5M [00:00<?, ?B/s]"
      ]
     },
     "metadata": {},
     "output_type": "display_data"
    },
    {
     "data": {
      "application/vnd.jupyter.widget-view+json": {
       "model_id": "2ed0d41ebd6e458d95ab44ff71fa8553",
       "version_major": 2,
       "version_minor": 0
      },
      "text/plain": [
       "Files Downloaded:   0%|          | 0/1 [00:00<?, ?file/s]"
      ]
     },
     "metadata": {},
     "output_type": "display_data"
    },
    {
     "data": {
      "application/vnd.jupyter.widget-view+json": {
       "model_id": "",
       "version_major": 2,
       "version_minor": 0
      },
      "text/plain": [
       "aia_lev1_94a_2021_01_17t01_02_59_12z_image_lev1.fits:   0%|          | 0.00/10.5M [00:00<?, ?B/s]"
      ]
     },
     "metadata": {},
     "output_type": "display_data"
    },
    {
     "data": {
      "application/vnd.jupyter.widget-view+json": {
       "model_id": "46af3379e1d6437a820a4f9d85ddd64f",
       "version_major": 2,
       "version_minor": 0
      },
      "text/plain": [
       "Files Downloaded:   0%|          | 0/1 [00:00<?, ?file/s]"
      ]
     },
     "metadata": {},
     "output_type": "display_data"
    },
    {
     "data": {
      "application/vnd.jupyter.widget-view+json": {
       "model_id": "98f4a91e3e704ba98d8196ce05a529fc",
       "version_major": 2,
       "version_minor": 0
      },
      "text/plain": [
       "Files Downloaded:   0%|          | 0/1 [00:00<?, ?file/s]"
      ]
     },
     "metadata": {},
     "output_type": "display_data"
    },
    {
     "data": {
      "application/vnd.jupyter.widget-view+json": {
       "model_id": "",
       "version_major": 2,
       "version_minor": 0
      },
      "text/plain": [
       "aia_lev1_94a_2021_01_17t01_03_23_12z_image_lev1.fits:   0%|          | 0.00/10.5M [00:00<?, ?B/s]"
      ]
     },
     "metadata": {},
     "output_type": "display_data"
    },
    {
     "data": {
      "application/vnd.jupyter.widget-view+json": {
       "model_id": "7c6f111c1044461aa247509c7d3f4683",
       "version_major": 2,
       "version_minor": 0
      },
      "text/plain": [
       "Files Downloaded:   0%|          | 0/1 [00:00<?, ?file/s]"
      ]
     },
     "metadata": {},
     "output_type": "display_data"
    },
    {
     "data": {
      "application/vnd.jupyter.widget-view+json": {
       "model_id": "",
       "version_major": 2,
       "version_minor": 0
      },
      "text/plain": [
       "aia_lev1_94a_2021_01_17t01_03_35_12z_image_lev1.fits:   0%|          | 0.00/10.5M [00:00<?, ?B/s]"
      ]
     },
     "metadata": {},
     "output_type": "display_data"
    },
    {
     "data": {
      "application/vnd.jupyter.widget-view+json": {
       "model_id": "6fac253f37d04c749fa38d2cdda9706a",
       "version_major": 2,
       "version_minor": 0
      },
      "text/plain": [
       "Files Downloaded:   0%|          | 0/1 [00:00<?, ?file/s]"
      ]
     },
     "metadata": {},
     "output_type": "display_data"
    },
    {
     "data": {
      "application/vnd.jupyter.widget-view+json": {
       "model_id": "",
       "version_major": 2,
       "version_minor": 0
      },
      "text/plain": [
       "aia_lev1_94a_2021_01_17t01_03_47_12z_image_lev1.fits:   0%|          | 0.00/10.5M [00:00<?, ?B/s]"
      ]
     },
     "metadata": {},
     "output_type": "display_data"
    },
    {
     "data": {
      "application/vnd.jupyter.widget-view+json": {
       "model_id": "b0d38139e7b145bb9081d4c187ee6daa",
       "version_major": 2,
       "version_minor": 0
      },
      "text/plain": [
       "Files Downloaded:   0%|          | 0/1 [00:00<?, ?file/s]"
      ]
     },
     "metadata": {},
     "output_type": "display_data"
    },
    {
     "data": {
      "application/vnd.jupyter.widget-view+json": {
       "model_id": "3d25e759394b4e299116d37116bbe47b",
       "version_major": 2,
       "version_minor": 0
      },
      "text/plain": [
       "Files Downloaded:   0%|          | 0/1 [00:00<?, ?file/s]"
      ]
     },
     "metadata": {},
     "output_type": "display_data"
    },
    {
     "data": {
      "application/vnd.jupyter.widget-view+json": {
       "model_id": "",
       "version_major": 2,
       "version_minor": 0
      },
      "text/plain": [
       "aia_lev1_94a_2021_01_17t01_04_11_12z_image_lev1.fits:   0%|          | 0.00/10.5M [00:00<?, ?B/s]"
      ]
     },
     "metadata": {},
     "output_type": "display_data"
    },
    {
     "data": {
      "application/vnd.jupyter.widget-view+json": {
       "model_id": "44a61b19c7c04d0c97c8571b62bb4c0d",
       "version_major": 2,
       "version_minor": 0
      },
      "text/plain": [
       "Files Downloaded:   0%|          | 0/1 [00:00<?, ?file/s]"
      ]
     },
     "metadata": {},
     "output_type": "display_data"
    },
    {
     "data": {
      "application/vnd.jupyter.widget-view+json": {
       "model_id": "",
       "version_major": 2,
       "version_minor": 0
      },
      "text/plain": [
       "aia_lev1_94a_2021_01_17t01_04_23_12z_image_lev1.fits:   0%|          | 0.00/10.5M [00:00<?, ?B/s]"
      ]
     },
     "metadata": {},
     "output_type": "display_data"
    },
    {
     "data": {
      "application/vnd.jupyter.widget-view+json": {
       "model_id": "b14e7334e6c146ef84b5635824ecb2c9",
       "version_major": 2,
       "version_minor": 0
      },
      "text/plain": [
       "Files Downloaded:   0%|          | 0/1 [00:00<?, ?file/s]"
      ]
     },
     "metadata": {},
     "output_type": "display_data"
    },
    {
     "data": {
      "application/vnd.jupyter.widget-view+json": {
       "model_id": "232173a386f947ab96115f50385f405e",
       "version_major": 2,
       "version_minor": 0
      },
      "text/plain": [
       "Files Downloaded:   0%|          | 0/1 [00:00<?, ?file/s]"
      ]
     },
     "metadata": {},
     "output_type": "display_data"
    },
    {
     "data": {
      "application/vnd.jupyter.widget-view+json": {
       "model_id": "",
       "version_major": 2,
       "version_minor": 0
      },
      "text/plain": [
       "aia_lev1_94a_2021_01_17t01_04_47_12z_image_lev1.fits:   0%|          | 0.00/10.5M [00:00<?, ?B/s]"
      ]
     },
     "metadata": {},
     "output_type": "display_data"
    },
    {
     "data": {
      "application/vnd.jupyter.widget-view+json": {
       "model_id": "a39700b6b0fd421aaed028e4d9a9d6d5",
       "version_major": 2,
       "version_minor": 0
      },
      "text/plain": [
       "Files Downloaded:   0%|          | 0/1 [00:00<?, ?file/s]"
      ]
     },
     "metadata": {},
     "output_type": "display_data"
    },
    {
     "data": {
      "application/vnd.jupyter.widget-view+json": {
       "model_id": "",
       "version_major": 2,
       "version_minor": 0
      },
      "text/plain": [
       "aia_lev1_94a_2021_01_17t01_04_59_12z_image_lev1.fits:   0%|          | 0.00/10.5M [00:00<?, ?B/s]"
      ]
     },
     "metadata": {},
     "output_type": "display_data"
    }
   ],
   "source": [
    "for file in Data[0]: #Data[0] helps downlode file one by one\n",
    "    filename = Fido.fetch(file)#Puts files on computer   \n",
    "    for i in range(len(filename)):\n",
    "        fff = ((filename[i].split('\\\\'))[5]).split('.')#splits path of folder\n",
    "        map0 = sunpy.map.Map(filename) #Reades files\n",
    "        map_resample = map0.resample(new_dim)#Change dimension  \n",
    "        map_resample.save('%s_256x256.fits'%(fff[i])) #Saves new file\n",
    "        os.remove('../sunpy/data/%s'%(filename[i].split('\\\\'))[5]) #Removes old file"
   ]
  },
  {
   "cell_type": "code",
   "execution_count": 3,
   "id": "7375b83e",
   "metadata": {},
   "outputs": [],
   "source": [
    "List_2 = glob.glob(r'C:\\Users\\14242\\2022 Summer Internship')"
   ]
  },
  {
   "cell_type": "code",
   "execution_count": 7,
   "id": "6ac214e5",
   "metadata": {},
   "outputs": [
    {
     "ename": "PermissionError",
     "evalue": "[WinError 32] The process cannot access the file because it is being used by another process: 'C:\\\\\\\\Users\\\\\\\\14242\\\\\\\\2022 Summer Internship\\\\\\\\file_resample.fits'",
     "output_type": "error",
     "traceback": [
      "\u001b[1;31m---------------------------------------------------------------------------\u001b[0m",
      "\u001b[1;31mPermissionError\u001b[0m                           Traceback (most recent call last)",
      "Input \u001b[1;32mIn [7]\u001b[0m, in \u001b[0;36m<cell line: 1>\u001b[1;34m()\u001b[0m\n\u001b[1;32m----> 1\u001b[0m \u001b[43mos\u001b[49m\u001b[38;5;241;43m.\u001b[39;49m\u001b[43mremove\u001b[49m\u001b[43m(\u001b[49m\u001b[38;5;124;43mr\u001b[39;49m\u001b[38;5;124;43m'\u001b[39;49m\u001b[38;5;124;43mC:\u001b[39;49m\u001b[38;5;130;43;01m\\\\\u001b[39;49;00m\u001b[38;5;124;43mUsers\u001b[39;49m\u001b[38;5;130;43;01m\\\\\u001b[39;49;00m\u001b[38;5;124;43m14242\u001b[39;49m\u001b[38;5;130;43;01m\\\\\u001b[39;49;00m\u001b[38;5;124;43m2022 Summer Internship\u001b[39;49m\u001b[38;5;130;43;01m\\\\\u001b[39;49;00m\u001b[38;5;124;43mfile_resample.fits\u001b[39;49m\u001b[38;5;124;43m'\u001b[39;49m\u001b[43m)\u001b[49m\n",
      "\u001b[1;31mPermissionError\u001b[0m: [WinError 32] The process cannot access the file because it is being used by another process: 'C:\\\\\\\\Users\\\\\\\\14242\\\\\\\\2022 Summer Internship\\\\\\\\file_resample.fits'"
     ]
    }
   ],
   "source": [
    "#os.remove(r'C:\\\\Users\\\\14242\\\\2022 Summer Internship\\\\file_resample.fits')"
   ]
  },
  {
   "cell_type": "code",
   "execution_count": 3,
   "id": "988138b8",
   "metadata": {},
   "outputs": [
    {
     "name": "stdout",
     "output_type": "stream",
     "text": [
      "['C:\\\\Users\\\\14242\\\\2022 Summer Internship\\\\aia_lev1_94a_2021_01_17t01_00_11_12z_image_lev1_256x256.fits', 'C:\\\\Users\\\\14242\\\\2022 Summer Internship\\\\aia_lev1_94a_2021_01_17t01_00_35_12z_image_lev1_256x256.fits', 'C:\\\\Users\\\\14242\\\\2022 Summer Internship\\\\aia_lev1_94a_2021_01_17t01_00_47_15z_image_lev1_256x256.fits', 'C:\\\\Users\\\\14242\\\\2022 Summer Internship\\\\aia_lev1_94a_2021_01_17t01_01_11_12z_image_lev1_256x256.fits', 'C:\\\\Users\\\\14242\\\\2022 Summer Internship\\\\aia_lev1_94a_2021_01_17t01_01_23_12z_image_lev1_256x256.fits', 'C:\\\\Users\\\\14242\\\\2022 Summer Internship\\\\aia_lev1_94a_2021_01_17t01_01_35_13z_image_lev1_256x256.fits', 'C:\\\\Users\\\\14242\\\\2022 Summer Internship\\\\aia_lev1_94a_2021_01_17t01_01_47_12z_image_lev1_256x256.fits', 'C:\\\\Users\\\\14242\\\\2022 Summer Internship\\\\aia_lev1_94a_2021_01_17t01_01_59_14z_image_lev1_256x256.fits', 'C:\\\\Users\\\\14242\\\\2022 Summer Internship\\\\aia_lev1_94a_2021_01_17t01_02_11_12z_image_lev1_256x256.fits', 'C:\\\\Users\\\\14242\\\\2022 Summer Internship\\\\aia_lev1_94a_2021_01_17t01_02_23_13z_image_lev1_256x256.fits', 'C:\\\\Users\\\\14242\\\\2022 Summer Internship\\\\aia_lev1_94a_2021_01_17t01_02_35_12z_image_lev1_256x256.fits', 'C:\\\\Users\\\\14242\\\\2022 Summer Internship\\\\aia_lev1_94a_2021_01_17t01_02_47_12z_image_lev1_256x256.fits', 'C:\\\\Users\\\\14242\\\\2022 Summer Internship\\\\aia_lev1_94a_2021_01_17t01_02_59_12z_image_lev1_256x256.fits', 'C:\\\\Users\\\\14242\\\\2022 Summer Internship\\\\aia_lev1_94a_2021_01_17t01_03_23_12z_image_lev1_256x256.fits', 'C:\\\\Users\\\\14242\\\\2022 Summer Internship\\\\aia_lev1_94a_2021_01_17t01_03_35_12z_image_lev1_256x256.fits', 'C:\\\\Users\\\\14242\\\\2022 Summer Internship\\\\aia_lev1_94a_2021_01_17t01_03_47_12z_image_lev1_256x256.fits', 'C:\\\\Users\\\\14242\\\\2022 Summer Internship\\\\aia_lev1_94a_2021_01_17t01_04_11_12z_image_lev1_256x256.fits', 'C:\\\\Users\\\\14242\\\\2022 Summer Internship\\\\aia_lev1_94a_2021_01_17t01_04_23_12z_image_lev1_256x256.fits', 'C:\\\\Users\\\\14242\\\\2022 Summer Internship\\\\aia_lev1_94a_2021_01_17t01_04_47_12z_image_lev1_256x256.fits', 'C:\\\\Users\\\\14242\\\\2022 Summer Internship\\\\aia_lev1_94a_2021_01_17t01_04_59_12z_image_lev1_256x256.fits', 'C:\\\\Users\\\\14242\\\\2022 Summer Internship\\\\file_resample.fits']\n"
     ]
    }
   ],
   "source": [
    "print (List_2)#Takes into account all Fits Files"
   ]
  },
  {
   "cell_type": "code",
   "execution_count": 4,
   "id": "c0f31a83",
   "metadata": {},
   "outputs": [
    {
     "name": "stderr",
     "output_type": "stream",
     "text": [
      "WARNING: VerifyWarning: Invalid 'BLANK' keyword in header.  The 'BLANK' keyword is only applicable to integer data, and will be ignored in this HDU. [astropy.io.fits.hdu.image]\n"
     ]
    }
   ],
   "source": [
    "data_average = [] #Averages subtracted data\n",
    "data_median = [] #Median subtracted data\n",
    "for Polar in List_2: \n",
    "    Polardata = getdata(Polar) \n",
    "    data_average.append(Polardata - np.average(Polardata)) \n",
    "    data_median.append(Polardata - np.median(Polardata))  \n",
    "    \n",
    "Arr=np.array(data_average)#Converts Arr list into numpy array"
   ]
  },
  {
   "cell_type": "code",
   "execution_count": 5,
   "id": "ee93f795",
   "metadata": {},
   "outputs": [],
   "source": [
    "Diff = [] #Consequtive Differences\n",
    "for i in range (1,len(Arr)-1): \n",
    "    Diff.append(Arr[i+1]-Arr[i]) \n",
    "    \n",
    "Diff = np.array(Diff)"
   ]
  },
  {
   "cell_type": "code",
   "execution_count": 6,
   "id": "022cae96",
   "metadata": {},
   "outputs": [
    {
     "data": {
      "image/png": "[encoded data removed]",
      "text/plain": [
       "<Figure size 720x720 with 2 Axes>"
      ]
     },
     "metadata": {
      "needs_background": "light"
     },
     "output_type": "display_data"
    }
   ],
   "source": [
    "#Just a plot for the Difference from the start\n",
    "\n",
    "plt.figure(figsize=(10,10))\n",
    "plt.imshow(Diff[0],vmin = 9, vmax = 12)  \n",
    "plt.colorbar()\n",
    "plt.show()"
   ]
  },
  {
   "cell_type": "code",
   "execution_count": null,
   "id": "1d68990a",
   "metadata": {},
   "outputs": [],
   "source": [
    "#locates Gaussian-like blobs of Sun\n",
    "f = tp.locate(Arr[1], 5, invert=True, minmass=5) \n",
    "\n",
    "tp.annotate(f,Arr[1]);#Creates graph of f"
   ]
  },
  {
   "cell_type": "code",
   "execution_count": null,
   "id": "1c1e9789",
   "metadata": {},
   "outputs": [],
   "source": [
    "r = tp.batch(Arr,5, minmass =5); "
   ]
  },
  {
   "cell_type": "code",
   "execution_count": null,
   "id": "4b6946bd",
   "metadata": {},
   "outputs": [],
   "source": [
    "t = tp.link(r, 5, memory=4)"
   ]
  },
  {
   "cell_type": "code",
   "execution_count": null,
   "id": "aac070b4",
   "metadata": {},
   "outputs": [],
   "source": [
    "#Change 42 into the frames allowed\n",
    "t1 = tp.filter_stubs(t,42) #Filters out Spurious traj \n",
    "print('Before:', t['particle'].nunique())\n",
    "print('After:', t1['particle'].nunique())"
   ]
  },
  {
   "cell_type": "code",
   "execution_count": null,
   "id": "0ceb19e0",
   "metadata": {},
   "outputs": [],
   "source": [
    "#Filters our particls from t1 \n",
    "t2 = t1[((t1['mass'] <20 ) & (t1['size'] > 1.125) &\n",
    "         (t1['ecc'] < 1))] "
   ]
  },
  {
   "cell_type": "code",
   "execution_count": null,
   "id": "fae649b1",
   "metadata": {},
   "outputs": [],
   "source": [
    "R = 203.211425"
   ]
  },
  {
   "cell_type": "code",
   "execution_count": null,
   "id": "ff1be416",
   "metadata": {},
   "outputs": [],
   "source": [
    "iloc_valid = []\n",
    "\n",
    "for i in range(len(t2)):\n",
    "    r = np.sqrt((t2['x'].iloc[i]- 258.853546125)**2 + (t2['y'].iloc[i] - 251.0950775)**2)\n",
    "    if r<R: \n",
    "        (r, t2['particle'].iloc[i])\n",
    "        iloc_valid.append(i) "
   ]
  },
  {
   "cell_type": "code",
   "execution_count": null,
   "id": "8fa818ee",
   "metadata": {},
   "outputs": [],
   "source": [
    "fra = max(t2.iloc[iloc_valid]['frame']) + 1"
   ]
  },
  {
   "cell_type": "code",
   "execution_count": null,
   "id": "90e074b0",
   "metadata": {},
   "outputs": [],
   "source": [
    "Bull=[]\n",
    "for i in range(fra): \n",
    "    s= t2.iloc[iloc_valid].loc[i].sum(axis=0).loc['signal']  \n",
    "    Bull+=[s]"
   ]
  },
  {
   "cell_type": "code",
   "execution_count": null,
   "id": "383a8e0b",
   "metadata": {},
   "outputs": [],
   "source": [
    "x = np.array(range(fra))\n",
    "y = np.array(Bull)\n",
    "\n",
    "plt.title('Light Curve')\n",
    "plt.plot(x, y, color=\"red\")\n",
    "\n",
    "plt.show()"
   ]
  }
 ],
 "metadata": {
  "kernelspec": {
   "display_name": "Python 3 (ipykernel)",
   "language": "python",
   "name": "python3"
  },
  "language_info": {
   "codemirror_mode": {
    "name": "ipython",
    "version": 3
   },
   "file_extension": ".py",
   "mimetype": "text/x-python",
   "name": "python",
   "nbconvert_exporter": "python",
   "pygments_lexer": "ipython3",
   "version": "3.9.12"
  }
 },
 "nbformat": 4,
 "nbformat_minor": 5
}
