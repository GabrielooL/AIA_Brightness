{
 "cells": [
  {
   "cell_type": "code",
   "execution_count": 3,
   "id": "931a935f",
   "metadata": {},
   "outputs": [],
   "source": [
    "import sunpy \n",
    "import astropy.units as u\n",
    "\n",
    "from sunpy.net import Fido, attrs as a \n",
    "import astropy.time\n",
    "\n",
    "\n",
    "from astropy.io import fits as astro_fits  \n",
    "from astropy.io.fits import getdata\n",
    "\n",
    "import copy\n",
    "import glob\n",
    "\n",
    "import matplotlib\n",
    "import matplotlib.pyplot as plt\n",
    "from mpl_toolkits.axes_grid1 import make_axes_locatable \n",
    "import matplotlib as mpl \n",
    "from matplotlib.collections import LineCollection\n",
    "\n",
    "\n",
    "import numpy as np\n",
    "from IPython.display import HTML\n",
    "\n",
    "import astropy.table\n",
    "from astropy.coordinates import SkyCoord\n",
    "import astropy.units as u\n",
    "from astropy.visualization import AsymmetricPercentileInterval, ImageNormalize, LogStretch \n",
    "\n",
    "#These packages are for Using TrackPy\n",
    "import matplotlib.pyplot as plt \n",
    "import pandas as pd\n",
    "from pandas import DataFrame, Series  # for convenience\n",
    "import pims\n",
    "import trackpy as tp \n",
    "from numpy import sqrt  "
   ]
  },
  {
   "cell_type": "code",
   "execution_count": 4,
   "id": "b85fb015",
   "metadata": {},
   "outputs": [],
   "source": [
    "Sun_Start = \"2022-08-01T00:00\" #Start Time \n",
    "Sun_End = \"2022-08-01T00:01\" #End time \n",
    "\n",
    "Sun_Time = a.Time(Sun_Start , Sun_End) "
   ]
  },
  {
   "cell_type": "code",
   "execution_count": 5,
   "id": "44480a58",
   "metadata": {},
   "outputs": [],
   "source": [
    " Data = Fido.search(Sun_Time & a.Instrument.aia & a.Wavelength(94*u.angstrom)) #Gets Data"
   ]
  },
  {
   "cell_type": "code",
   "execution_count": 7,
   "id": "cfa21b4f",
   "metadata": {},
   "outputs": [
    {
     "data": {
      "application/vnd.jupyter.widget-view+json": {
       "model_id": "dfcc83d0a9584de3b519313ad8b28d51",
       "version_major": 2,
       "version_minor": 0
      },
      "text/plain": [
       "Files Downloaded:   0%|          | 0/1 [00:00<?, ?file/s]"
      ]
     },
     "metadata": {},
     "output_type": "display_data"
    },
    {
     "data": {
      "application/vnd.jupyter.widget-view+json": {
       "model_id": "",
       "version_major": 2,
       "version_minor": 0
      },
      "text/plain": [
       "aia20220801_000000_0094.fits:   0%|          | 0.00/720k [00:00<?, ?B/s]"
      ]
     },
     "metadata": {},
     "output_type": "display_data"
    }
   ],
   "source": [
    "files = Fido.fetch(Data)"
   ]
  },
  {
   "cell_type": "code",
   "execution_count": 8,
   "id": "4bcc5c93",
   "metadata": {},
   "outputs": [
    {
     "data": {
      "text/plain": [
       "<parfive.results.Results object at 0x0000017CE25681F0>\n",
       "['C:\\\\Users\\\\14242\\\\sunpy\\\\data\\\\aia20220801_000000_0094.fits']"
      ]
     },
     "execution_count": 8,
     "metadata": {},
     "output_type": "execute_result"
    }
   ],
   "source": [
    "files"
   ]
  },
  {
   "cell_type": "code",
   "execution_count": 9,
   "id": "89202506",
   "metadata": {},
   "outputs": [
    {
     "data": {
      "application/vnd.jupyter.widget-view+json": {
       "model_id": "fa371843bd3c40bfb593f8dee612803a",
       "version_major": 2,
       "version_minor": 0
      },
      "text/plain": [
       "Files Downloaded: 0file [00:00, ?file/s]"
      ]
     },
     "metadata": {},
     "output_type": "display_data"
    },
    {
     "data": {
      "text/plain": [
       "<parfive.results.Results object at 0x0000017CE1A2E160>\n",
       "['C:\\\\Users\\\\14242\\\\sunpy\\\\data\\\\aia20220801_000000_0094.fits']"
      ]
     },
     "execution_count": 9,
     "metadata": {},
     "output_type": "execute_result"
    }
   ],
   "source": [
    "Fido.fetch(files)#fetch files on computer"
   ]
  },
  {
   "cell_type": "code",
   "execution_count": 10,
   "id": "038e8045",
   "metadata": {},
   "outputs": [],
   "source": [
    "List_2 = glob.glob(r'C:\\Users\\14242\\2022 Summer Internship\\Aug Solor flare Pic\\*')"
   ]
  },
  {
   "cell_type": "code",
   "execution_count": 11,
   "id": "5e0122ac",
   "metadata": {},
   "outputs": [],
   "source": [
    "data_average = [] #Averages subtracted data\n",
    "data_median = [] #Median subtracted data\n",
    "for Polar in List_2: \n",
    "    Polardata = getdata(Polar) \n",
    "    data_average.append(Polardata - np.average(Polardata)) \n",
    "    data_median.append(Polardata - np.median(Polardata))  \n",
    "    \n",
    "Arr=np.array(data_average)#Converts Arr list into numpy array"
   ]
  },
  {
   "cell_type": "code",
   "execution_count": 12,
   "id": "a41a65ff",
   "metadata": {},
   "outputs": [
    {
     "data": {
      "image/png": "[encoded data removed]",
      "text/plain": [
       "<Figure size 432x288 with 1 Axes>"
      ]
     },
     "metadata": {
      "needs_background": "light"
     },
     "output_type": "display_data"
    }
   ],
   "source": [
    "#Use trackpy to locate Gaussian-like blobs of some image\n",
    "f = tp.locate(Arr[0], 11, invert = True, minmass = 70) \n",
    "\n",
    "tp.annotate(f,Arr[0]);#Creates the graph of f "
   ]
  },
  {
   "cell_type": "code",
   "execution_count": 13,
   "id": "22101417",
   "metadata": {},
   "outputs": [
    {
     "name": "stdout",
     "output_type": "stream",
     "text": [
      "Frame 0: 96 features\n"
     ]
    }
   ],
   "source": [
    "r = tp.batch(Arr,11, minmass =50); "
   ]
  },
  {
   "cell_type": "code",
   "execution_count": 14,
   "id": "842a2ce6",
   "metadata": {},
   "outputs": [],
   "source": [
    "t = tp.link(r,5,memory = 9)"
   ]
  },
  {
   "cell_type": "code",
   "execution_count": 15,
   "id": "533515af",
   "metadata": {},
   "outputs": [
    {
     "name": "stdout",
     "output_type": "stream",
     "text": [
      "Before: 96\n",
      "After: 0\n"
     ]
    }
   ],
   "source": [
    "t1 = tp.filter_stubs(t,5) #Filters out Spurious traj \n",
    "print('Before:', t['particle'].nunique())\n",
    "print('After:', t1['particle'].nunique())"
   ]
  },
  {
   "cell_type": "code",
   "execution_count": null,
   "id": "ad8a5d0b",
   "metadata": {},
   "outputs": [],
   "source": [
    "t2 = t1[((t1['mass'] <400 ) & (t1['size'] > 2.2) &\n",
    "         (t1['ecc'] < 1))]"
   ]
  },
  {
   "cell_type": "code",
   "execution_count": null,
   "id": "8de0592f",
   "metadata": {},
   "outputs": [],
   "source": [
    "R = 1625.691406"
   ]
  },
  {
   "cell_type": "code",
   "execution_count": null,
   "id": "d83d01f9",
   "metadata": {},
   "outputs": [],
   "source": [
    "iloc_valid = []\n",
    "\n",
    "for i in range(len(t)): #I changed f into t \n",
    "    r = np.sqrt((t2['x'].iloc[i]- 2070.828369)**2 + (t2['y'].iloc[i] - 2008.760620)**2)\n",
    "    if r<R: \n",
    "        print (r, t2['particle'].iloc[i])\n",
    "        iloc_valid.append(i)"
   ]
  },
  {
   "cell_type": "code",
   "execution_count": null,
   "id": "6b884207",
   "metadata": {},
   "outputs": [],
   "source": [
    "Tot_part = len(t2.iloc[iloc_valid].particle.unique())#Total # of particles        \n",
    "Position = range(1,Tot_part+1) \n",
    "fig = plt.figure(1,figsize = (10,45)) \n",
    "\n",
    "i = 0\n",
    "for p in range(Tot_part): ##Repeats the action below \n",
    "       \n",
    "    if not (t2.loc[t2.particle==p].empty): \n",
    "        ax = fig.add_subplot(Tot_part, 1,Position[i])##Defining Plots axis bounds \n",
    "        ax.set_xlim((0,9))##Sets Frame bounds \n",
    "        t2.loc[t2.particle==p].plot(x='frame',y='signal', \n",
    "                               style = '-o',label =f'part {p}',ax=ax) \n",
    "        i += 1\n",
    "plt.show()"
   ]
  },
  {
   "cell_type": "code",
   "execution_count": null,
   "id": "8ca84050",
   "metadata": {},
   "outputs": [],
   "source": [
    "Bull=[]\n",
    "for i in range(10): \n",
    "    s= t2.iloc[iloc_valid].loc[i].sum(axis=0).loc['signal']  \n",
    "    Bull+=[s]"
   ]
  },
  {
   "cell_type": "code",
   "execution_count": null,
   "id": "a2f18539",
   "metadata": {},
   "outputs": [],
   "source": [
    "x = np.linspace(0, 9, num=10)\n",
    "y = np.array(Bull)\n",
    "\n",
    "plt.title('Light Curve')\n",
    "plt.plot(x, y, color=\"red\")\n",
    "\n",
    "plt.show()"
   ]
  },
  {
   "cell_type": "code",
   "execution_count": null,
   "id": "8f187ddf",
   "metadata": {},
   "outputs": [],
   "source": []
  },
  {
   "cell_type": "code",
   "execution_count": null,
   "id": "b9d58c75",
   "metadata": {},
   "outputs": [],
   "source": []
  },
  {
   "cell_type": "code",
   "execution_count": null,
   "id": "448f468e",
   "metadata": {},
   "outputs": [],
   "source": []
  }
 ],
 "metadata": {
  "kernelspec": {
   "display_name": "Python 3 (ipykernel)",
   "language": "python",
   "name": "python3"
  },
  "language_info": {
   "codemirror_mode": {
    "name": "ipython",
    "version": 3
   },
   "file_extension": ".py",
   "mimetype": "text/x-python",
   "name": "python",
   "nbconvert_exporter": "python",
   "pygments_lexer": "ipython3",
   "version": "3.9.12"
  }
 },
 "nbformat": 4,
 "nbformat_minor": 5
}
