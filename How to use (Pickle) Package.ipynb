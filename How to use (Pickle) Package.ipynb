{
 "cells": [
  {
   "cell_type": "code",
   "execution_count": 1,
   "id": "2e507185",
   "metadata": {},
   "outputs": [],
   "source": [
    "from astropy.io import fits as astro_fits  \n",
    "from astropy.io.fits import getdata\n",
    "\n",
    "import copy\n",
    "import glob\n",
    "\n",
    "import matplotlib\n",
    "import matplotlib.pyplot as plt\n",
    "from mpl_toolkits.axes_grid1 import make_axes_locatable\n",
    "import numpy as np\n",
    "from IPython.display import HTML\n",
    "\n",
    "import astropy.table\n",
    "from astropy.coordinates import SkyCoord\n",
    "import astropy.units as u\n",
    "from astropy.visualization import AsymmetricPercentileInterval, ImageNormalize, LogStretch\n",
    " \n",
    "    \n",
    "import pickle     \n"
   ]
  },
  {
   "cell_type": "code",
   "execution_count": 2,
   "id": "d26dca12",
   "metadata": {},
   "outputs": [],
   "source": [
    "#Ex 1\n",
    "favorite_color = { \"lion\": \"yellow\", \"kitty\": \"red\" }"
   ]
  },
  {
   "cell_type": "code",
   "execution_count": 3,
   "id": "5a298af9",
   "metadata": {},
   "outputs": [],
   "source": [
    "pickle.dump( favorite_color, open( \"save.p\", \"wb\" ) )"
   ]
  },
  {
   "cell_type": "code",
   "execution_count": 4,
   "id": "319e2a37",
   "metadata": {},
   "outputs": [],
   "source": [
    "favorite_color = pickle.load( open( \"save.p\", \"rb\" ) )"
   ]
  },
  {
   "cell_type": "code",
   "execution_count": null,
   "id": "488f7a09",
   "metadata": {},
   "outputs": [],
   "source": [
    "#Ex2 "
   ]
  },
  {
   "cell_type": "code",
   "execution_count": 5,
   "id": "ad25043e",
   "metadata": {},
   "outputs": [],
   "source": [
    "mylist = ['a', 'b', 'c', 'd']\n",
    "with open('datafile.txt', 'wb') as fh:\n",
    "   pickle.dump(mylist, fh)"
   ]
  },
  {
   "cell_type": "code",
   "execution_count": 6,
   "id": "4ac119e0",
   "metadata": {},
   "outputs": [
    {
     "name": "stdout",
     "output_type": "stream",
     "text": [
      "['a', 'b', 'c', 'd']\n"
     ]
    }
   ],
   "source": [
    "pickle_off = open (\"datafile.txt\", \"rb\")\n",
    "emp = pickle.load(pickle_off)\n",
    "print(emp)"
   ]
  },
  {
   "cell_type": "code",
   "execution_count": null,
   "id": "78f6db4f",
   "metadata": {},
   "outputs": [],
   "source": []
  }
 ],
 "metadata": {
  "kernelspec": {
   "display_name": "Python 3 (ipykernel)",
   "language": "python",
   "name": "python3"
  },
  "language_info": {
   "codemirror_mode": {
    "name": "ipython",
    "version": 3
   },
   "file_extension": ".py",
   "mimetype": "text/x-python",
   "name": "python",
   "nbconvert_exporter": "python",
   "pygments_lexer": "ipython3",
   "version": "3.9.12"
  }
 },
 "nbformat": 4,
 "nbformat_minor": 5
}
