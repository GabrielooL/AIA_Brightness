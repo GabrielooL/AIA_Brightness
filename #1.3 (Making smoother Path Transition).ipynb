{
 "cells": [
  {
   "cell_type": "code",
   "execution_count": 5,
   "id": "353e869e",
   "metadata": {},
   "outputs": [],
   "source": [
    "import sunpy \n",
    "import astropy.units as u\n",
    "\n",
    "from sunpy.net import Fido, attrs as a \n",
    "import astropy.time\n",
    "\n",
    "import sunpy.map\n",
    "\n",
    "from astropy.io import fits \n",
    "import matplotlib.pyplot as plt \n",
    "\n",
    "import os \n",
    "import pathlib  \n",
    "from pathlib import Path\n",
    "\n",
    "from PIL import Image \n",
    "\n",
    "import copy\n",
    "import glob"
   ]
  },
  {
   "cell_type": "code",
   "execution_count": 6,
   "id": "b87dfe9c",
   "metadata": {},
   "outputs": [],
   "source": [
    "Sun_Start = \"2021-01-17T1:00\" #Start Time  \n",
    "Sun_End = \"2021-01-17T1:01\" #End time \n",
    "\n",
    "Sun_Time = a.Time(Sun_Start , Sun_End) "
   ]
  },
  {
   "cell_type": "code",
   "execution_count": 7,
   "id": "e88d1ddd",
   "metadata": {},
   "outputs": [],
   "source": [
    " Data = Fido.search(Sun_Time & a.Instrument.aia & a.Wavelength(94*u.angstrom))  "
   ]
  },
  {
   "cell_type": "code",
   "execution_count": 8,
   "id": "e7759098",
   "metadata": {},
   "outputs": [],
   "source": [
    "new_dim = [512,512]*u.pixel"
   ]
  },
  {
   "cell_type": "code",
   "execution_count": 10,
   "id": "cff510dd",
   "metadata": {},
   "outputs": [
    {
     "ename": "NameError",
     "evalue": "name '__file__' is not defined",
     "output_type": "error",
     "traceback": [
      "\u001b[1;31m---------------------------------------------------------------------------\u001b[0m",
      "\u001b[1;31mNameError\u001b[0m                                 Traceback (most recent call last)",
      "Input \u001b[1;32mIn [10]\u001b[0m, in \u001b[0;36m<cell line: 1>\u001b[1;34m()\u001b[0m\n\u001b[1;32m----> 1\u001b[0m Working_Dir \u001b[38;5;241m=\u001b[39m Path(\u001b[38;5;18;43m__file__\u001b[39;49m)\u001b[38;5;241m.\u001b[39mabsolute()\u001b[38;5;241m.\u001b[39mparent[\u001b[38;5;241m5\u001b[39m]\n",
      "\u001b[1;31mNameError\u001b[0m: name '__file__' is not defined"
     ]
    }
   ],
   "source": [
    "Working_Dir = Path(__file__).absolute().parent[5]"
   ]
  },
  {
   "cell_type": "code",
   "execution_count": null,
   "id": "c5a6c92b",
   "metadata": {},
   "outputs": [],
   "source": [
    "for file in Data[0]: #Data[0] helps downlode file one by one\n",
    "    filename = Fido.fetch(file)#Puts files on computer   \n",
    "    for i in range(len(filename)):\n",
    "        fff = ((filename[i].split('\\\\'))[5]).split('.')#splits path of folder\n",
    "        map0 = sunpy.map.Map(filename) #Reades files\n",
    "        map_resample = map0.resample(new_dim)#Change dimension  \n",
    "        map_resample.save('%s_256x256.fits'%(fff[i])) #Saves new file\n",
    "        os.remove('../sunpy/data/%s'%(filename[i].split('\\\\'))[5]) #Removes old file"
   ]
  },
  {
   "cell_type": "code",
   "execution_count": null,
   "id": "1fa266e7",
   "metadata": {},
   "outputs": [],
   "source": [
    "#Path I want the save files to "
   ]
  },
  {
   "cell_type": "code",
   "execution_count": null,
   "id": "19e89892",
   "metadata": {},
   "outputs": [],
   "source": [
    "List_2 = glob.glob(r'C:\\Users\\14242\\2022 Summer Internship\\Path for Data\\*')"
   ]
  },
  {
   "cell_type": "code",
   "execution_count": null,
   "id": "ba494d7e",
   "metadata": {},
   "outputs": [],
   "source": []
  },
  {
   "cell_type": "code",
   "execution_count": null,
   "id": "48201304",
   "metadata": {},
   "outputs": [],
   "source": []
  }
 ],
 "metadata": {
  "kernelspec": {
   "display_name": "Python 3 (ipykernel)",
   "language": "python",
   "name": "python3"
  },
  "language_info": {
   "codemirror_mode": {
    "name": "ipython",
    "version": 3
   },
   "file_extension": ".py",
   "mimetype": "text/x-python",
   "name": "python",
   "nbconvert_exporter": "python",
   "pygments_lexer": "ipython3",
   "version": "3.9.12"
  }
 },
 "nbformat": 4,
 "nbformat_minor": 5
}
