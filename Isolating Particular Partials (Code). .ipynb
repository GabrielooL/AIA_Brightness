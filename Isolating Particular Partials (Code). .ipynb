{
 "cells": [
  {
   "cell_type": "code",
   "execution_count": 1,
   "id": "eb110e83",
   "metadata": {},
   "outputs": [],
   "source": [
    "from astropy.io import fits as astro_fits  \n",
    "from astropy.io.fits import getdata\n",
    "\n",
    "import copy\n",
    "import glob\n",
    "\n",
    "import matplotlib\n",
    "import matplotlib.pyplot as plt\n",
    "from mpl_toolkits.axes_grid1 import make_axes_locatable\n",
    "import numpy as np\n",
    "from IPython.display import HTML\n",
    "\n",
    "import astropy.table\n",
    "from astropy.coordinates import SkyCoord\n",
    "import astropy.units as u\n",
    "from astropy.visualization import AsymmetricPercentileInterval, ImageNormalize, LogStretch \n",
    "\n",
    "#These packages are for Using TrackPy\n",
    "import matplotlib.pyplot as plt \n",
    "import pandas as pd\n",
    "from pandas import DataFrame, Series  # for convenience\n",
    "import pims\n",
    "import trackpy as tp \n",
    "\n",
    "from numpy import sqrt \n"
   ]
  },
  {
   "cell_type": "code",
   "execution_count": 2,
   "id": "57ce7ce3",
   "metadata": {},
   "outputs": [],
   "source": [
    "List_2 = glob.glob(r'C:\\Users\\14242\\2022 Summer Internship\\Sun Pics Part 2 (10 pics)\\*')"
   ]
  },
  {
   "cell_type": "code",
   "execution_count": 3,
   "id": "d7079684",
   "metadata": {},
   "outputs": [],
   "source": [
    "data_average = [] \n",
    "data_median = [] \n",
    "for Polar in List_2: \n",
    "    Polardata = getdata(Polar) \n",
    "    data_average.append(Polardata - np.average(Polardata)) \n",
    "    data_median.append(Polardata - np.median(Polardata)) "
   ]
  },
  {
   "cell_type": "code",
   "execution_count": 4,
   "id": "08ec010a",
   "metadata": {},
   "outputs": [],
   "source": [
    "Arr=np.array(data_average)"
   ]
  },
  {
   "cell_type": "code",
   "execution_count": 5,
   "id": "9622c97c",
   "metadata": {},
   "outputs": [],
   "source": [
    "#For this I want to know how to create a loop for the difference\n",
    "Diff = Arr[2] - Arr[1]"
   ]
  },
  {
   "cell_type": "code",
   "execution_count": 6,
   "id": "2ecb96e1",
   "metadata": {},
   "outputs": [],
   "source": [
    "#To look how Diff would look like\n",
    "#Diff"
   ]
  },
  {
   "cell_type": "code",
   "execution_count": 7,
   "id": "76ae4352",
   "metadata": {},
   "outputs": [],
   "source": [
    "Diff = [] \n",
    "for i in range (1,len(Arr)-1): \n",
    "    Diff.append(Arr[i+1]-Arr[i])"
   ]
  },
  {
   "cell_type": "code",
   "execution_count": 8,
   "id": "fb350735",
   "metadata": {},
   "outputs": [],
   "source": [
    "#Just a plot for the Difference from the start\n",
    "\n",
    "#plt.figure(figsize=(10,10))\n",
    "#plt.imshow(Diff[0],vmin = -1, vmax = 1)  \n",
    "#plt.colorbar()\n",
    "#plt.show()"
   ]
  },
  {
   "cell_type": "code",
   "execution_count": 9,
   "id": "8920bd7d",
   "metadata": {},
   "outputs": [],
   "source": [
    "#This is to clean up the graph  \n",
    "#Talk to Milo about the limits of the minmass\n",
    "f = tp.locate(Arr[0], 11, invert = True, minmass = 70)"
   ]
  },
  {
   "cell_type": "code",
   "execution_count": 10,
   "id": "0a176919",
   "metadata": {},
   "outputs": [
    {
     "data": {
      "image/png": "[encoded data removed]",
      "text/plain": [
       "<Figure size 432x288 with 1 Axes>"
      ]
     },
     "metadata": {
      "needs_background": "light"
     },
     "output_type": "display_data"
    }
   ],
   "source": [
    "#This gives us the graph\n",
    "tp.annotate(f,Arr[0]); "
   ]
  },
  {
   "cell_type": "code",
   "execution_count": 12,
   "id": "4fa8ab1a",
   "metadata": {},
   "outputs": [
    {
     "data": {
      "text/plain": [
       "y           1504.197090\n",
       "x           2591.875661\n",
       "mass          75.525738\n",
       "size           2.434594\n",
       "ecc            0.321339\n",
       "signal         4.395678\n",
       "raw_mass   -1181.546494\n",
       "ep            -0.089743\n",
       "Name: 15440, dtype: float64"
      ]
     },
     "execution_count": 12,
     "metadata": {},
     "output_type": "execute_result"
    }
   ],
   "source": [
    "#This is to find the specific  data for the one partical(easier to look at data)\n",
    "f.iloc[34]"
   ]
  },
  {
   "cell_type": "code",
   "execution_count": 13,
   "id": "68847211",
   "metadata": {},
   "outputs": [],
   "source": [
    "#Just created an array for the original radius of the sun. \n",
    "R = 1625.691406"
   ]
  },
  {
   "cell_type": "code",
   "execution_count": 14,
   "id": "4ccfcad4",
   "metadata": {},
   "outputs": [],
   "source": [
    "#Use trackPy/Sunpy and look at the header for the new dimentions of the  \n",
    "#Diagram, with this we can use restrictions and track the partical"
   ]
  },
  {
   "cell_type": "code",
   "execution_count": 15,
   "id": "eb6bb321",
   "metadata": {},
   "outputs": [
    {
     "name": "stdout",
     "output_type": "stream",
     "text": [
      "Frame 9: 139 features\n"
     ]
    }
   ],
   "source": [
    "#Tells us the frames and features of the photos\n",
    "r = tp.batch(Arr[:10],11,minmass = 50, invert = True); \n"
   ]
  },
  {
   "cell_type": "code",
   "execution_count": 16,
   "id": "2a0cc667",
   "metadata": {},
   "outputs": [
    {
     "name": "stdout",
     "output_type": "stream",
     "text": [
      "Frame 9: 139 trajectories present.\n"
     ]
    }
   ],
   "source": [
    "# The 5 here is the max displacement that the partical can trael \n",
    "#This tends to be small so it dosnet slow down the program  \n",
    "#memeory means the amount of frames that the partical can be missed \n",
    "#this is useful to give us the partical within the header\n",
    "t = tp.link(r,5,memory = 9)"
   ]
  },
  {
   "cell_type": "code",
   "execution_count": 17,
   "id": "134da69d",
   "metadata": {},
   "outputs": [
    {
     "data": {
      "text/plain": [
       "<bound method NDFrame.head of                 y            x        mass      size       ecc    signal  \\\n",
       "0      692.731343  1109.121269   53.547349  2.945082  0.338276  2.197839   \n",
       "100   1587.005459   497.195415   91.510021  2.855700  0.061035  3.496562   \n",
       "98    1573.733840  3641.583650   52.548331  2.865489  0.471381  2.297741   \n",
       "97    1570.725694  2568.932292   57.543419  3.121665  0.489026  2.397642   \n",
       "96    1568.801406  2592.922671   56.844107  3.060319  0.108850  2.297741   \n",
       "...           ...          ...         ...       ...       ...       ...   \n",
       "1185  1404.645594  3190.159004   62.195084  2.969836  0.115198  2.382953   \n",
       "1186  1405.854271   555.134243  165.972704  2.896640  0.289998  6.314826   \n",
       "1187  1408.572741   515.320061   77.803428  3.265674  0.460669  3.336135   \n",
       "1181  1383.453382   534.937843   65.173775  3.030919  0.374255  3.931873   \n",
       "1277  3490.807175  2745.547085   53.139861  3.147353  0.315110  1.668067   \n",
       "\n",
       "         raw_mass        ep  frame  particle  \n",
       "0     -142.296525 -0.441194      0         0  \n",
       "100   -333.046519 -0.256686      0         1  \n",
       "98    -312.796520 -0.268612      0         2  \n",
       "97    -197.796524 -0.364882      0         3  \n",
       "96    -238.046525 -0.324213      0         4  \n",
       "...           ...       ...    ...       ...  \n",
       "1185   -98.215501 -0.154356      9       129  \n",
       "1186 -1099.715500 -0.034202      9       272  \n",
       "1187 -1891.465500 -0.021173      9       458  \n",
       "1181 -1535.715506 -0.025545      9       547  \n",
       "1277    -4.215501 -0.230290      9       548  \n",
       "\n",
       "[1278 rows x 10 columns]>"
      ]
     },
     "execution_count": 17,
     "metadata": {},
     "output_type": "execute_result"
    }
   ],
   "source": [
    "t.head "
   ]
  },
  {
   "cell_type": "code",
   "execution_count": 18,
   "id": "40a6598a",
   "metadata": {},
   "outputs": [
    {
     "name": "stdout",
     "output_type": "stream",
     "text": [
      "Before: 549\n",
      "After: 66\n"
     ]
    }
   ],
   "source": [
    "#This code with (t,5) filters out the particals that are spontanious \n",
    "#Will have to look at the data to see what frames are considered spontanious\n",
    "t1 = tp.filter_stubs(t,5) \n",
    "print('Before:', t['particle'].nunique())\n",
    "print('After:', t1['particle'].nunique())"
   ]
  },
  {
   "cell_type": "markdown",
   "id": "5aa0a6e1",
   "metadata": {},
   "source": [
    "plt.figure()\n",
    "tp.mass_size(t1.groupby('particle').mean());"
   ]
  },
  {
   "cell_type": "code",
   "execution_count": 19,
   "id": "28133908",
   "metadata": {},
   "outputs": [],
   "source": [
    "#Plots those figures mass and size (Not important as of now)\n",
    "#plt.figure()\n",
    "#tp.mass_size(t1.groupby('particle').mean())"
   ]
  },
  {
   "cell_type": "code",
   "execution_count": 20,
   "id": "65174a5c",
   "metadata": {},
   "outputs": [],
   "source": [
    "#This cell will be for the code to filter out the particals that are not needed \n",
    "t2 = t1[((t1['mass'] >60 ) & (t1['size'] < 3.1) &\n",
    "         (t1['ecc'] < 1))]"
   ]
  },
  {
   "cell_type": "code",
   "execution_count": 21,
   "id": "31d50645",
   "metadata": {},
   "outputs": [
    {
     "data": {
      "image/png": "[encoded data removed]",
      "text/plain": [
       "<Figure size 432x288 with 1 Axes>"
      ]
     },
     "metadata": {
      "needs_background": "light"
     },
     "output_type": "display_data"
    }
   ],
   "source": [
    "plt.figure()\n",
    "tp.annotate(t2[t2['frame'] == 0], Arr[1]);"
   ]
  },
  {
   "cell_type": "code",
   "execution_count": 22,
   "id": "90b9fc14",
   "metadata": {},
   "outputs": [
    {
     "name": "stdout",
     "output_type": "stream",
     "text": [
      "Not Important\n",
      "Not Important\n",
      "Not Important\n",
      "663.3114756902536 3\n",
      "682.7492735659819 4\n",
      "Not Important\n",
      "664.4099873021468 6\n",
      "Not Important\n",
      "700.9001853826223 8\n",
      "Not Important\n",
      "Not Important\n",
      "712.8603918898916 11\n",
      "674.5308589124434 12\n",
      "664.4477202783263 13\n",
      "Not Important\n",
      "673.7017349801447 15\n",
      "Not Important\n",
      "727.0843278975366 17\n",
      "714.4315619080177 18\n",
      "Not Important\n",
      "702.7959270937081 20\n",
      "Not Important\n",
      "694.6035245764971 22\n",
      "Not Important\n",
      "Not Important\n",
      "Not Important\n",
      "711.6682277237475 26\n",
      "Not Important\n",
      "Not Important\n",
      "707.0836079331443 29\n",
      "Not Important\n",
      "Not Important\n",
      "Not Important\n",
      "Not Important\n",
      "Not Important\n",
      "Not Important\n",
      "Not Important\n",
      "Not Important\n",
      "Not Important\n",
      "Not Important\n",
      "Not Important\n",
      "Not Important\n",
      "Not Important\n",
      "Not Important\n",
      "Not Important\n",
      "Not Important\n",
      "1589.5808747957453 46\n",
      "1601.6253806937223 47\n",
      "1622.3342290833543 48\n",
      "Not Important\n",
      "Not Important\n",
      "1603.865117646188 51\n",
      "Not Important\n",
      "Not Important\n",
      "Not Important\n",
      "1623.4419812767803 55\n",
      "Not Important\n",
      "1619.920029387272 57\n"
     ]
    }
   ],
   "source": [
    "#This is a equation for the radius of the particals INSIDE of the Circle \n",
    "iloc_valid = []\n",
    "\n",
    "for i in range(len(f)): \n",
    "    r = np.sqrt((t['x'].iloc[i]- 2070.828369)**2 + (t['y'].iloc[i] - 2008.760620)**2)\n",
    "    if r<R: \n",
    "        print(r, t['particle'].iloc[i])\n",
    "        iloc_valid.append(i)\n",
    "    else: \n",
    "        print ('Not Important') \n",
    "\n",
    "    "
   ]
  },
  {
   "cell_type": "code",
   "execution_count": 23,
   "id": "e240390f",
   "metadata": {},
   "outputs": [
    {
     "data": {
      "text/plain": [
       "[3, 4, 6, 8, 11, 12, 13, 15, 17, 18, 20, 22, 26, 29, 46, 47, 48, 51, 55, 57]"
      ]
     },
     "execution_count": 23,
     "metadata": {},
     "output_type": "execute_result"
    }
   ],
   "source": [
    "#The particals # that are valid from the loop in top\n",
    "iloc_valid"
   ]
  },
  {
   "cell_type": "code",
   "execution_count": 64,
   "id": "d6e1481a",
   "metadata": {},
   "outputs": [
    {
     "data": {
      "text/plain": [
       "(array([  3, 146, 388], dtype=int64),)"
      ]
     },
     "execution_count": 64,
     "metadata": {},
     "output_type": "execute_result"
    }
   ],
   "source": [
    " np.where(t['particle']==3)"
   ]
  },
  {
   "cell_type": "code",
   "execution_count": 25,
   "id": "1f2efaf5",
   "metadata": {},
   "outputs": [
    {
     "data": {
      "image/png": "[encoded data removed]",
      "text/plain": [
       "<Figure size 432x288 with 1 Axes>"
      ]
     },
     "metadata": {
      "needs_background": "light"
     },
     "output_type": "display_data"
    }
   ],
   "source": [
    "tp.annotate (t.iloc[iloc_valid],Arr[1]);"
   ]
  },
  {
   "cell_type": "code",
   "execution_count": 26,
   "id": "53cf184a",
   "metadata": {},
   "outputs": [
    {
     "data": {
      "image/png": "[encoded data removed]",
      "text/plain": [
       "<Figure size 432x288 with 1 Axes>"
      ]
     },
     "metadata": {
      "needs_background": "light"
     },
     "output_type": "display_data"
    }
   ],
   "source": [
    "plt.figure()\n",
    "tp.plot_traj(t); "
   ]
  },
  {
   "cell_type": "code",
   "execution_count": 27,
   "id": "1af172c1",
   "metadata": {},
   "outputs": [],
   "source": [
    "#These next code will be plotting lightcurve (signal and mass)"
   ]
  },
  {
   "cell_type": "code",
   "execution_count": 40,
   "id": "1b63a662",
   "metadata": {},
   "outputs": [],
   "source": [
    "#For the graph, the I need to graph the partical[0] and other variables \n",
    "#This need to graph for a couple of frames and then it will graph the other partical "
   ]
  },
  {
   "cell_type": "code",
   "execution_count": 74,
   "id": "e2e4fa14",
   "metadata": {},
   "outputs": [
    {
     "name": "stdout",
     "output_type": "stream",
     "text": [
      "57\n"
     ]
    }
   ],
   "source": [
    "print(t['particle'].iloc[i])\n"
   ]
  },
  {
   "cell_type": "code",
   "execution_count": 85,
   "id": "0a7605f6",
   "metadata": {},
   "outputs": [
    {
     "name": "stdout",
     "output_type": "stream",
     "text": [
      "97      3\n",
      "96      4\n",
      "94      6\n",
      "92      8\n",
      "89     11\n",
      "88     12\n",
      "87     13\n",
      "101    15\n",
      "83     17\n",
      "82     18\n",
      "80     20\n",
      "78     22\n",
      "74     26\n",
      "71     29\n",
      "124    46\n",
      "123    47\n",
      "122    48\n",
      "119    51\n",
      "108    55\n",
      "110    57\n",
      "Name: particle, dtype: int64\n"
     ]
    }
   ],
   "source": [
    "print (t['particle'].iloc[iloc_valid])"
   ]
  },
  {
   "cell_type": "code",
   "execution_count": 104,
   "id": "05c72b09",
   "metadata": {},
   "outputs": [
    {
     "name": "stdout",
     "output_type": "stream",
     "text": [
      "97     0\n",
      "96     0\n",
      "94     0\n",
      "92     0\n",
      "89     0\n",
      "88     0\n",
      "87     0\n",
      "101    0\n",
      "83     0\n",
      "82     0\n",
      "80     0\n",
      "78     0\n",
      "74     0\n",
      "71     0\n",
      "124    0\n",
      "123    0\n",
      "122    0\n",
      "119    0\n",
      "108    0\n",
      "110    0\n",
      "Name: frame, dtype: int64\n"
     ]
    }
   ],
   "source": [
    "print (t['frame'].iloc[iloc_valid])"
   ]
  },
  {
   "cell_type": "code",
   "execution_count": null,
   "id": "a9448b0a",
   "metadata": {},
   "outputs": [],
   "source": []
  },
  {
   "cell_type": "code",
   "execution_count": null,
   "id": "b514b0ef",
   "metadata": {},
   "outputs": [],
   "source": []
  },
  {
   "cell_type": "code",
   "execution_count": 59,
   "id": "eb8d70c0",
   "metadata": {},
   "outputs": [
    {
     "data": {
      "text/plain": [
       "Text(0.5, 0, 'Frame')"
      ]
     },
     "execution_count": 59,
     "metadata": {},
     "output_type": "execute_result"
    },
    {
     "data": {
      "image/png": "[encoded data removed]",
      "text/plain": [
       "<Figure size 432x288 with 1 Axes>"
      ]
     },
     "metadata": {
      "needs_background": "light"
     },
     "output_type": "display_data"
    }
   ],
   "source": [
    "#Here Though I graphed it, its only graphes in 1 frame and not multiple \n",
    "#I might need to do something witht eh partical. \n",
    "fig, ax = plt.subplots() \n",
    "\n",
    "Fra =  t['frame'].iloc[iloc_valid]\n",
    "Sig =  t['signal'].iloc[iloc_valid]\n",
    "ax.plot(Fra,Sig) \n",
    "plt.ylabel('Signal') \n",
    "plt.xlabel('Frame')  \n",
    "\n",
    "\n"
   ]
  },
  {
   "cell_type": "code",
   "execution_count": null,
   "id": "97e56445",
   "metadata": {},
   "outputs": [],
   "source": []
  }
 ],
 "metadata": {
  "kernelspec": {
   "display_name": "Python 3 (ipykernel)",
   "language": "python",
   "name": "python3"
  },
  "language_info": {
   "codemirror_mode": {
    "name": "ipython",
    "version": 3
   },
   "file_extension": ".py",
   "mimetype": "text/x-python",
   "name": "python",
   "nbconvert_exporter": "python",
   "pygments_lexer": "ipython3",
   "version": "3.9.12"
  }
 },
 "nbformat": 4,
 "nbformat_minor": 5
}
